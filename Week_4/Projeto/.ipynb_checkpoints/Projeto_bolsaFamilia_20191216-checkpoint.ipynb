{
 "cells": [
  {
   "cell_type": "code",
   "execution_count": 35,
   "metadata": {},
   "outputs": [],
   "source": [
    "import requests\n",
    "import json\n",
    "import pandas as pd\n",
    "import numpy as np\n",
    "from pandas.io.json import json_normalize\n",
    "import time"
   ]
  },
  {
   "cell_type": "code",
   "execution_count": 200,
   "metadata": {},
   "outputs": [],
   "source": [
    "#Coletando todas as capitais e colocando numa lista.\n",
    "capitais = ['Rio Branco', 'Maceió', 'Macapá', 'Manaus', 'Salvador', 'Fortaleza',\n",
    "            'Brasília', 'Vitória', 'Goiânia', 'São Luís', 'Cuiabá', 'Campo Grande',\n",
    "            'Belo Horizonte','Belém', 'João Pessoa', 'Curitiba', 'Recife', 'Teresina',\n",
    "            'Rio de Janeiro', 'Natal', 'Porto Alegre', 'Porto Velho', 'Boa Vista',\n",
    "            'Florianópolis', 'São Paulo', 'Aracaju', 'Palmas']"
   ]
  },
  {
   "cell_type": "code",
   "execution_count": 208,
   "metadata": {},
   "outputs": [],
   "source": [
    "# Coletei na internet os códigos das capitais para a requisição e coloquei em um dicionário.\n",
    "capitaiscodeIBGE = {'Rio Branco': 1200401, 'Maceió': 2704302, 'Macapá': 1600303, \n",
    "                'Manaus': 1302603, 'Salvador': 2927408, 'Fortaleza': 2304400,\n",
    "                'Brasília': 5300108, 'Vitória': 3205309, 'Goiânia': 5208707,     \n",
    "                'São Luís': 2111300, 'Cuiabá': 5103403, 'Campo Grande': 5002704, \n",
    "                'Belo Horizonte': 3106200, 'Belém': 1501402, 'João Pessoa': 2507507,\n",
    "                'Curitiba': 4106902, 'Recife': 2611606, 'Teresina': 2211001, \n",
    "                'Rio de Janeiro': 3304557, 'Natal': 2408102, 'Porto Alegre': 4314902,\n",
    "                'Porto Velho': 1100205,'Boa Vista': 1400100, 'Florianópolis': 4205407, \n",
    "                'São Paulo': 3550308, 'Aracaju': 2800308, 'Palmas': 1721000}"
   ]
  },
  {
   "cell_type": "code",
   "execution_count": 203,
   "metadata": {},
   "outputs": [],
   "source": [
    "#lista com os padrão de requisição de mês e ano.\n",
    "month_2018 = [201801, 201802, 201803, 201804, 201805, 201806, 201807, 201808, 201809, \n",
    "        201810, 201811, 201812]"
   ]
  },
  {
   "cell_type": "code",
   "execution_count": 204,
   "metadata": {},
   "outputs": [],
   "source": [
    "month_2019 = [201901, 201902, 201903, 201904, 201905, 201906, 201907, 201908, 201909, \n",
    "        201910, 201911, 201912]"
   ]
  },
  {
   "cell_type": "code",
   "execution_count": 205,
   "metadata": {},
   "outputs": [],
   "source": [
    "# Lista de dataframe para acumular os dados e posterior merge.\n"
   ]
  },
  {
   "cell_type": "code",
   "execution_count": 206,
   "metadata": {},
   "outputs": [
    {
     "data": {
      "text/plain": [
       "0"
      ]
     },
     "execution_count": 206,
     "metadata": {},
     "output_type": "execute_result"
    }
   ],
   "source": [
    "len(dataFramelist)"
   ]
  },
  {
   "cell_type": "code",
   "execution_count": 216,
   "metadata": {},
   "outputs": [
    {
     "name": "stdout",
     "output_type": "stream",
     "text": [
      "Capital: Rio Branco / Mês: 201901 / Restante: 27\n",
      "Capital: Rio Branco / Mês: 201902 / Restante: 27\n",
      "Capital: Rio Branco / Mês: 201903 / Restante: 27\n",
      "Capital: Rio Branco / Mês: 201904 / Restante: 27\n",
      "Capital: Rio Branco / Mês: 201905 / Restante: 27\n",
      "Capital: Rio Branco / Mês: 201906 / Restante: 27\n",
      "Capital: Rio Branco / Mês: 201907 / Restante: 27\n",
      "Capital: Rio Branco / Mês: 201908 / Restante: 27\n",
      "Capital: Rio Branco / Mês: 201909 / Restante: 27\n",
      "Capital: Rio Branco / Mês: 201910 / Restante: 27\n",
      "Capital: Rio Branco / Mês: 201911 / Restante: 27\n"
     ]
    },
    {
     "ename": "IndexError",
     "evalue": "list index out of range",
     "output_type": "error",
     "traceback": [
      "\u001b[0;31m---------------------------------------------------------------------------\u001b[0m",
      "\u001b[0;31mIndexError\u001b[0m                                Traceback (most recent call last)",
      "\u001b[0;32m<ipython-input-216-2e7791805787>\u001b[0m in \u001b[0;36m<module>\u001b[0;34m\u001b[0m\n\u001b[1;32m      8\u001b[0m         \u001b[0murl\u001b[0m \u001b[0;34m=\u001b[0m \u001b[0;34mf'http://www.transparencia.gov.br/api-de-dados/bolsa-familia-por-municipio?mesAno={mon}&codigoIbge={cod}&pagina=1'\u001b[0m\u001b[0;34m\u001b[0m\u001b[0;34m\u001b[0m\u001b[0m\n\u001b[1;32m      9\u001b[0m         \u001b[0mtime\u001b[0m\u001b[0;34m.\u001b[0m\u001b[0msleep\u001b[0m\u001b[0;34m(\u001b[0m\u001b[0;36m5\u001b[0m\u001b[0;34m)\u001b[0m\u001b[0;34m\u001b[0m\u001b[0;34m\u001b[0m\u001b[0m\n\u001b[0;32m---> 10\u001b[0;31m         \u001b[0mdf\u001b[0m \u001b[0;34m=\u001b[0m \u001b[0mpd\u001b[0m\u001b[0;34m.\u001b[0m\u001b[0mDataFrame\u001b[0m\u001b[0;34m(\u001b[0m\u001b[0mrequests\u001b[0m\u001b[0;34m.\u001b[0m\u001b[0mget\u001b[0m\u001b[0;34m(\u001b[0m\u001b[0murl\u001b[0m\u001b[0;34m)\u001b[0m\u001b[0;34m.\u001b[0m\u001b[0mjson\u001b[0m\u001b[0;34m(\u001b[0m\u001b[0;34m)\u001b[0m\u001b[0;34m[\u001b[0m\u001b[0;36m0\u001b[0m\u001b[0;34m]\u001b[0m\u001b[0;34m)\u001b[0m\u001b[0;34m\u001b[0m\u001b[0;34m\u001b[0m\u001b[0m\n\u001b[0m\u001b[1;32m     11\u001b[0m         \u001b[0mdf\u001b[0m\u001b[0;34m.\u001b[0m\u001b[0mdrop\u001b[0m\u001b[0;34m(\u001b[0m\u001b[0mindex\u001b[0m\u001b[0;34m=\u001b[0m\u001b[0mindex\u001b[0m\u001b[0;34m,\u001b[0m \u001b[0minplace\u001b[0m\u001b[0;34m=\u001b[0m\u001b[0;32mTrue\u001b[0m\u001b[0;34m)\u001b[0m\u001b[0;34m\u001b[0m\u001b[0;34m\u001b[0m\u001b[0m\n\u001b[1;32m     12\u001b[0m         \u001b[0mdf\u001b[0m\u001b[0;34m.\u001b[0m\u001b[0mreset_index\u001b[0m\u001b[0;34m(\u001b[0m\u001b[0minplace\u001b[0m\u001b[0;34m=\u001b[0m\u001b[0;32mTrue\u001b[0m\u001b[0;34m)\u001b[0m\u001b[0;34m\u001b[0m\u001b[0;34m\u001b[0m\u001b[0m\n",
      "\u001b[0;31mIndexError\u001b[0m: list index out of range"
     ]
    }
   ],
   "source": [
    "#interando por capital e ano. Criei uma função que aceita uma lista e retorna uma lista de Dfs.\n",
    "index = ['codigoIBGE', 'nomeIBGEsemAcento', 'pais', 'uf', 'id', 'descricao', 'descricaoDetalhada']\n",
    "dataFramelist = []\n",
    "for i in range(27):\n",
    "    cod = capitaiscodeIBGE[capitais[i]]\n",
    "    for j in range(12):\n",
    "        mon = month_2019[j]\n",
    "        url = f'http://www.transparencia.gov.br/api-de-dados/bolsa-familia-por-municipio?mesAno={mon}&codigoIbge={cod}&pagina=1'\n",
    "        time.sleep(5)\n",
    "        try:\n",
    "            df = pd.DataFrame(requests.get(url).json()[0])\n",
    "            df.drop(index=index, inplace=True)\n",
    "            df.reset_index(inplace=True)\n",
    "            dataFramelist.append(df)\n",
    "            print(f'Capital: {capitais[i]} / Mês: {mon} / Restante: {27-i}')\n",
    "        except:\n",
    "            print(f'Mẽs {mon} não disponível')\n",
    "            continue"
   ]
  },
  {
   "cell_type": "code",
   "execution_count": 172,
   "metadata": {},
   "outputs": [
    {
     "data": {
      "text/plain": [
       "324"
      ]
     },
     "execution_count": 172,
     "metadata": {},
     "output_type": "execute_result"
    }
   ],
   "source": [
    "len(dataFramelist)"
   ]
  },
  {
   "cell_type": "code",
   "execution_count": 183,
   "metadata": {},
   "outputs": [],
   "source": [
    "bolsa_familia = pd.concat(dataFramelist,axis=0)"
   ]
  },
  {
   "cell_type": "code",
   "execution_count": 184,
   "metadata": {},
   "outputs": [
    {
     "data": {
      "text/html": [
       "<div>\n",
       "<style scoped>\n",
       "    .dataframe tbody tr th:only-of-type {\n",
       "        vertical-align: middle;\n",
       "    }\n",
       "\n",
       "    .dataframe tbody tr th {\n",
       "        vertical-align: top;\n",
       "    }\n",
       "\n",
       "    .dataframe thead th {\n",
       "        text-align: right;\n",
       "    }\n",
       "</style>\n",
       "<table border=\"1\" class=\"dataframe\">\n",
       "  <thead>\n",
       "    <tr style=\"text-align: right;\">\n",
       "      <th></th>\n",
       "      <th>index</th>\n",
       "      <th>id</th>\n",
       "      <th>dataReferencia</th>\n",
       "      <th>municipio</th>\n",
       "      <th>tipo</th>\n",
       "      <th>valor</th>\n",
       "      <th>quantidadeBeneficiados</th>\n",
       "    </tr>\n",
       "  </thead>\n",
       "  <tbody>\n",
       "    <tr>\n",
       "      <th>0</th>\n",
       "      <td>nomeIBGE</td>\n",
       "      <td>71505056</td>\n",
       "      <td>01/01/2018</td>\n",
       "      <td>RIO BRANCO</td>\n",
       "      <td>NaN</td>\n",
       "      <td>4877303.0</td>\n",
       "      <td>23418</td>\n",
       "    </tr>\n",
       "    <tr>\n",
       "      <th>0</th>\n",
       "      <td>nomeIBGE</td>\n",
       "      <td>70202252</td>\n",
       "      <td>01/02/2018</td>\n",
       "      <td>RIO BRANCO</td>\n",
       "      <td>NaN</td>\n",
       "      <td>4907869.0</td>\n",
       "      <td>23588</td>\n",
       "    </tr>\n",
       "    <tr>\n",
       "      <th>0</th>\n",
       "      <td>nomeIBGE</td>\n",
       "      <td>74602878</td>\n",
       "      <td>01/03/2018</td>\n",
       "      <td>RIO BRANCO</td>\n",
       "      <td>NaN</td>\n",
       "      <td>4922561.0</td>\n",
       "      <td>23747</td>\n",
       "    </tr>\n",
       "    <tr>\n",
       "      <th>0</th>\n",
       "      <td>nomeIBGE</td>\n",
       "      <td>69102980</td>\n",
       "      <td>01/04/2018</td>\n",
       "      <td>RIO BRANCO</td>\n",
       "      <td>NaN</td>\n",
       "      <td>4717363.0</td>\n",
       "      <td>22638</td>\n",
       "    </tr>\n",
       "    <tr>\n",
       "      <th>0</th>\n",
       "      <td>nomeIBGE</td>\n",
       "      <td>65303253</td>\n",
       "      <td>01/05/2018</td>\n",
       "      <td>RIO BRANCO</td>\n",
       "      <td>NaN</td>\n",
       "      <td>4781556.0</td>\n",
       "      <td>22921</td>\n",
       "    </tr>\n",
       "  </tbody>\n",
       "</table>\n",
       "</div>"
      ],
      "text/plain": [
       "      index        id dataReferencia   municipio tipo      valor  \\\n",
       "0  nomeIBGE  71505056     01/01/2018  RIO BRANCO  NaN  4877303.0   \n",
       "0  nomeIBGE  70202252     01/02/2018  RIO BRANCO  NaN  4907869.0   \n",
       "0  nomeIBGE  74602878     01/03/2018  RIO BRANCO  NaN  4922561.0   \n",
       "0  nomeIBGE  69102980     01/04/2018  RIO BRANCO  NaN  4717363.0   \n",
       "0  nomeIBGE  65303253     01/05/2018  RIO BRANCO  NaN  4781556.0   \n",
       "\n",
       "   quantidadeBeneficiados  \n",
       "0                   23418  \n",
       "0                   23588  \n",
       "0                   23747  \n",
       "0                   22638  \n",
       "0                   22921  "
      ]
     },
     "execution_count": 184,
     "metadata": {},
     "output_type": "execute_result"
    }
   ],
   "source": [
    "bolsa_familia.head()"
   ]
  },
  {
   "cell_type": "code",
   "execution_count": 182,
   "metadata": {},
   "outputs": [
    {
     "data": {
      "text/plain": [
       "                        municipio  dataReferencia\n",
       "id                      ARACAJU    01/01/2018        75404348.0\n",
       "                                   01/02/2018        65804892.0\n",
       "                                   01/03/2018        73804805.0\n",
       "                                   01/04/2018        65704955.0\n",
       "                                   01/05/2018        62402180.0\n",
       "                                                        ...    \n",
       "quantidadeBeneficiados  VITÓRIA    01/08/2018           13028.0\n",
       "                                   01/09/2018           12201.0\n",
       "                                   01/10/2018           12844.0\n",
       "                                   01/11/2018           13217.0\n",
       "                                   01/12/2018           12947.0\n",
       "Length: 972, dtype: float64"
      ]
     },
     "execution_count": 182,
     "metadata": {},
     "output_type": "execute_result"
    }
   ],
   "source": [
    "pd.pivot_table(bolsa_familia,columns=['municipio','dataReferencia'])"
   ]
  },
  {
   "cell_type": "code",
   "execution_count": null,
   "metadata": {},
   "outputs": [],
   "source": [
    "bolsa_familia"
   ]
  },
  {
   "cell_type": "code",
   "execution_count": null,
   "metadata": {},
   "outputs": [],
   "source": []
  }
 ],
 "metadata": {
  "kernelspec": {
   "display_name": "Python 3",
   "language": "python",
   "name": "python3"
  },
  "language_info": {
   "codemirror_mode": {
    "name": "ipython",
    "version": 3
   },
   "file_extension": ".py",
   "mimetype": "text/x-python",
   "name": "python",
   "nbconvert_exporter": "python",
   "pygments_lexer": "ipython3",
   "version": "3.7.5"
  }
 },
 "nbformat": 4,
 "nbformat_minor": 2
}
