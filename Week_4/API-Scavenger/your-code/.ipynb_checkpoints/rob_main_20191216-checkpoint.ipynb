{
 "cells": [
  {
   "cell_type": "markdown",
   "metadata": {},
   "source": [
    "# API Scavenger Game\n",
    "\n",
    "## Challenge 1: Fork Languages\n",
    "\n",
    "You will find out how many programming languages are used among all the forks created from the main lab repo of your bootcamp."
   ]
  },
  {
   "cell_type": "code",
   "execution_count": 189,
   "metadata": {},
   "outputs": [
    {
     "ename": "SyntaxError",
     "evalue": "invalid syntax (<ipython-input-189-1b00a5c25d8a>, line 7)",
     "output_type": "error",
     "traceback": [
      "\u001b[0;36m  File \u001b[0;32m\"<ipython-input-189-1b00a5c25d8a>\"\u001b[0;36m, line \u001b[0;32m7\u001b[0m\n\u001b[0;31m    import utf-8\u001b[0m\n\u001b[0m              ^\u001b[0m\n\u001b[0;31mSyntaxError\u001b[0m\u001b[0;31m:\u001b[0m invalid syntax\n"
     ]
    }
   ],
   "source": [
    "import requests\n",
    "import json\n",
    "import pandas as pd\n",
    "import numpy as np\n",
    "from pandas.io.json import json_normalize\n",
    "import base64\n",
    "import re\n",
    "import time"
   ]
  },
  {
   "cell_type": "markdown",
   "metadata": {},
   "source": [
    "Assuming the main lab repo is ironhack-datalabs/mad-oct-2018, you will:\n",
    "\n",
    "#### 1. Obtain the full list of forks created from the main lab repo via Github API."
   ]
  },
  {
   "cell_type": "markdown",
   "metadata": {},
   "source": [
    "To list forks, we can use the GET method. As explained in the GitHub API documentation, we need to make the request to: GET /repos/:owner/:repo/forks."
   ]
  },
  {
   "cell_type": "code",
   "execution_count": null,
   "metadata": {},
   "outputs": [],
   "source": [
    "forks = requests.get('https://api.github.com/repos/ironhack-datalabs/mad-oct-2018/forks')\n",
    "forks"
   ]
  },
  {
   "cell_type": "code",
   "execution_count": null,
   "metadata": {},
   "outputs": [],
   "source": [
    "data = pd.DataFrame.from_records(forks.json())\n",
    "data.head()"
   ]
  },
  {
   "cell_type": "markdown",
   "metadata": {},
   "source": [
    "#### 2. Loop the JSON response to find out the language attribute of each fork. Use an array to store the language attributes of each fork.\n",
    "Hint: Each language should appear only once in your array.\n",
    "Print the language array. It should be something like: [\"Python\", \"Jupyter Notebook\", \"HTML\"]"
   ]
  },
  {
   "cell_type": "code",
   "execution_count": null,
   "metadata": {},
   "outputs": [],
   "source": [
    "lang = []\n",
    "for i in data['language']:\n",
    "    lang.append(i)"
   ]
  },
  {
   "cell_type": "code",
   "execution_count": null,
   "metadata": {},
   "outputs": [],
   "source": [
    "l_array = np.array(list(set(lang)))"
   ]
  },
  {
   "cell_type": "code",
   "execution_count": null,
   "metadata": {},
   "outputs": [],
   "source": [
    "l_array"
   ]
  },
  {
   "cell_type": "markdown",
   "metadata": {},
   "source": [
    "## Challenge 2: Count Commits\n",
    "Count how many commits were made in the month of october of 2018.\n",
    "#### 1. Obtain all the commits made in October 2018 via API, which is a JSON array that contains multiple commit objects."
   ]
  },
  {
   "cell_type": "code",
   "execution_count": null,
   "metadata": {},
   "outputs": [],
   "source": [
    "data.shape"
   ]
  },
  {
   "cell_type": "code",
   "execution_count": null,
   "metadata": {},
   "outputs": [],
   "source": [
    "data['updated_at']"
   ]
  },
  {
   "cell_type": "code",
   "execution_count": null,
   "metadata": {},
   "outputs": [],
   "source": [
    "commits = data[(data['updated_at'] > '2018-09') & (data['updated_at'] < '2018-11')]"
   ]
  },
  {
   "cell_type": "markdown",
   "metadata": {},
   "source": [
    "#### 2. Count how many commit objects are contained in the array."
   ]
  },
  {
   "cell_type": "code",
   "execution_count": null,
   "metadata": {},
   "outputs": [],
   "source": [
    "commits.shape\n",
    "# 2 commits."
   ]
  },
  {
   "cell_type": "markdown",
   "metadata": {},
   "source": [
    "## Challenge 3: Hidden Cold Joke\n",
    "\n",
    "Using Python, call Github API to find out the cold joke contained in the 24 secret files in the following repo:\n",
    "\n",
    "https://github.com/ironhack-datalabs/scavenger\n",
    "\n",
    "The filenames of the secret files contain .scavengerhunt and they are scattered in different directories of this repo. The secret files are named from .0001.scavengerhunt to .0024.scavengerhunt. They are scattered randomly throughout this repo. You need to search for these files by calling the Github API, not searching the local files on your computer.\n",
    "\n",
    "#### 1. Find the secret files."
   ]
  },
  {
   "cell_type": "code",
   "execution_count": null,
   "metadata": {},
   "outputs": [],
   "source": [
    "url = 'https://api.github.com/search/code?q=scavengerhunt+in:path+repo:ironhack-datalabs/scavenger'\n",
    "resJoke = requests.get(url)\n",
    "resJoke"
   ]
  },
  {
   "cell_type": "code",
   "execution_count": null,
   "metadata": {},
   "outputs": [],
   "source": [
    "def flatten(df, col_names):\n",
    "    \n",
    "    for col_name in col_names:\n",
    "        flattened = pd.DataFrame.from_records(df[col_name])\n",
    "        flattened.columns = [f\"{col_name}_{col}\" for col in flattened.columns]\n",
    "        df = pd.concat([df, flattened], axis=1)\n",
    "        df = df.drop(col_name, axis=1)\n",
    "        \n",
    "    return df"
   ]
  },
  {
   "cell_type": "code",
   "execution_count": null,
   "metadata": {},
   "outputs": [],
   "source": [
    "joke = pd.DataFrame.from_records(resJoke.json())"
   ]
  },
  {
   "cell_type": "code",
   "execution_count": null,
   "metadata": {},
   "outputs": [],
   "source": [
    "joke.columns"
   ]
  },
  {
   "cell_type": "code",
   "execution_count": 140,
   "metadata": {},
   "outputs": [
    {
     "data": {
      "text/html": [
       "<div>\n",
       "<style scoped>\n",
       "    .dataframe tbody tr th:only-of-type {\n",
       "        vertical-align: middle;\n",
       "    }\n",
       "\n",
       "    .dataframe tbody tr th {\n",
       "        vertical-align: top;\n",
       "    }\n",
       "\n",
       "    .dataframe thead th {\n",
       "        text-align: right;\n",
       "    }\n",
       "</style>\n",
       "<table border=\"1\" class=\"dataframe\">\n",
       "  <thead>\n",
       "    <tr style=\"text-align: right;\">\n",
       "      <th></th>\n",
       "      <th>incomplete_results</th>\n",
       "      <th>total_count</th>\n",
       "      <th>items_name</th>\n",
       "      <th>items_path</th>\n",
       "      <th>items_sha</th>\n",
       "      <th>items_url</th>\n",
       "      <th>items_git_url</th>\n",
       "      <th>items_html_url</th>\n",
       "      <th>items_repository</th>\n",
       "      <th>items_score</th>\n",
       "    </tr>\n",
       "  </thead>\n",
       "  <tbody>\n",
       "    <tr>\n",
       "      <th>0</th>\n",
       "      <td>False</td>\n",
       "      <td>24</td>\n",
       "      <td>.0006.scavengerhunt</td>\n",
       "      <td>15024/.0006.scavengerhunt</td>\n",
       "      <td>1c9064284a24b3486015eafdb391b141c27ada2b</td>\n",
       "      <td>https://api.github.com/repositories/162375181/...</td>\n",
       "      <td>https://api.github.com/repositories/162375181/...</td>\n",
       "      <td>https://github.com/ironhack-datalabs/scavenger...</td>\n",
       "      <td>{'id': 162375181, 'node_id': 'MDEwOlJlcG9zaXRv...</td>\n",
       "      <td>1.860257</td>\n",
       "    </tr>\n",
       "    <tr>\n",
       "      <th>1</th>\n",
       "      <td>False</td>\n",
       "      <td>24</td>\n",
       "      <td>.0014.scavengerhunt</td>\n",
       "      <td>49418/.0014.scavengerhunt</td>\n",
       "      <td>1c9064284a24b3486015eafdb391b141c27ada2b</td>\n",
       "      <td>https://api.github.com/repositories/162375181/...</td>\n",
       "      <td>https://api.github.com/repositories/162375181/...</td>\n",
       "      <td>https://github.com/ironhack-datalabs/scavenger...</td>\n",
       "      <td>{'id': 162375181, 'node_id': 'MDEwOlJlcG9zaXRv...</td>\n",
       "      <td>1.860257</td>\n",
       "    </tr>\n",
       "    <tr>\n",
       "      <th>2</th>\n",
       "      <td>False</td>\n",
       "      <td>24</td>\n",
       "      <td>.0008.scavengerhunt</td>\n",
       "      <td>15534/.0008.scavengerhunt</td>\n",
       "      <td>e351fb73264581ce26504b97ef07daea35116f32</td>\n",
       "      <td>https://api.github.com/repositories/162375181/...</td>\n",
       "      <td>https://api.github.com/repositories/162375181/...</td>\n",
       "      <td>https://github.com/ironhack-datalabs/scavenger...</td>\n",
       "      <td>{'id': 162375181, 'node_id': 'MDEwOlJlcG9zaXRv...</td>\n",
       "      <td>1.860257</td>\n",
       "    </tr>\n",
       "    <tr>\n",
       "      <th>3</th>\n",
       "      <td>False</td>\n",
       "      <td>24</td>\n",
       "      <td>.0017.scavengerhunt</td>\n",
       "      <td>70985/.0017.scavengerhunt</td>\n",
       "      <td>e351fb73264581ce26504b97ef07daea35116f32</td>\n",
       "      <td>https://api.github.com/repositories/162375181/...</td>\n",
       "      <td>https://api.github.com/repositories/162375181/...</td>\n",
       "      <td>https://github.com/ironhack-datalabs/scavenger...</td>\n",
       "      <td>{'id': 162375181, 'node_id': 'MDEwOlJlcG9zaXRv...</td>\n",
       "      <td>1.860257</td>\n",
       "    </tr>\n",
       "    <tr>\n",
       "      <th>4</th>\n",
       "      <td>False</td>\n",
       "      <td>24</td>\n",
       "      <td>.0012.scavengerhunt</td>\n",
       "      <td>15534/.0012.scavengerhunt</td>\n",
       "      <td>209e3ef4b6247ce746048d5711befda46206d235</td>\n",
       "      <td>https://api.github.com/repositories/162375181/...</td>\n",
       "      <td>https://api.github.com/repositories/162375181/...</td>\n",
       "      <td>https://github.com/ironhack-datalabs/scavenger...</td>\n",
       "      <td>{'id': 162375181, 'node_id': 'MDEwOlJlcG9zaXRv...</td>\n",
       "      <td>1.860257</td>\n",
       "    </tr>\n",
       "  </tbody>\n",
       "</table>\n",
       "</div>"
      ],
      "text/plain": [
       "   incomplete_results  total_count           items_name  \\\n",
       "0               False           24  .0006.scavengerhunt   \n",
       "1               False           24  .0014.scavengerhunt   \n",
       "2               False           24  .0008.scavengerhunt   \n",
       "3               False           24  .0017.scavengerhunt   \n",
       "4               False           24  .0012.scavengerhunt   \n",
       "\n",
       "                  items_path                                 items_sha  \\\n",
       "0  15024/.0006.scavengerhunt  1c9064284a24b3486015eafdb391b141c27ada2b   \n",
       "1  49418/.0014.scavengerhunt  1c9064284a24b3486015eafdb391b141c27ada2b   \n",
       "2  15534/.0008.scavengerhunt  e351fb73264581ce26504b97ef07daea35116f32   \n",
       "3  70985/.0017.scavengerhunt  e351fb73264581ce26504b97ef07daea35116f32   \n",
       "4  15534/.0012.scavengerhunt  209e3ef4b6247ce746048d5711befda46206d235   \n",
       "\n",
       "                                           items_url  \\\n",
       "0  https://api.github.com/repositories/162375181/...   \n",
       "1  https://api.github.com/repositories/162375181/...   \n",
       "2  https://api.github.com/repositories/162375181/...   \n",
       "3  https://api.github.com/repositories/162375181/...   \n",
       "4  https://api.github.com/repositories/162375181/...   \n",
       "\n",
       "                                       items_git_url  \\\n",
       "0  https://api.github.com/repositories/162375181/...   \n",
       "1  https://api.github.com/repositories/162375181/...   \n",
       "2  https://api.github.com/repositories/162375181/...   \n",
       "3  https://api.github.com/repositories/162375181/...   \n",
       "4  https://api.github.com/repositories/162375181/...   \n",
       "\n",
       "                                      items_html_url  \\\n",
       "0  https://github.com/ironhack-datalabs/scavenger...   \n",
       "1  https://github.com/ironhack-datalabs/scavenger...   \n",
       "2  https://github.com/ironhack-datalabs/scavenger...   \n",
       "3  https://github.com/ironhack-datalabs/scavenger...   \n",
       "4  https://github.com/ironhack-datalabs/scavenger...   \n",
       "\n",
       "                                    items_repository  items_score  \n",
       "0  {'id': 162375181, 'node_id': 'MDEwOlJlcG9zaXRv...     1.860257  \n",
       "1  {'id': 162375181, 'node_id': 'MDEwOlJlcG9zaXRv...     1.860257  \n",
       "2  {'id': 162375181, 'node_id': 'MDEwOlJlcG9zaXRv...     1.860257  \n",
       "3  {'id': 162375181, 'node_id': 'MDEwOlJlcG9zaXRv...     1.860257  \n",
       "4  {'id': 162375181, 'node_id': 'MDEwOlJlcG9zaXRv...     1.860257  "
      ]
     },
     "execution_count": 140,
     "metadata": {},
     "output_type": "execute_result"
    }
   ],
   "source": [
    "jokeF = flatten(joke, ['items'])\n",
    "jokeF.head()"
   ]
  },
  {
   "cell_type": "markdown",
   "metadata": {},
   "source": [
    "#### 2.  Sort the filenames ascendingly."
   ]
  },
  {
   "cell_type": "code",
   "execution_count": 161,
   "metadata": {},
   "outputs": [],
   "source": [
    "# Sorted list.\n",
    "jokeF.sort_values(by='items_name', inplace=True)\n",
    "jokeF.reset_index(inplace=True)\n",
    "path = jokeF['items_path']"
   ]
  },
  {
   "cell_type": "markdown",
   "metadata": {},
   "source": [
    "#### 3. Read the content of each secret files into an array of strings.\n",
    "Since the response is encoded, you will need to send the following information in the header of your request:\n",
    "````python\n",
    "headers = {'Accept': 'application/vnd.github.v3.raw'}\n",
    "````"
   ]
  },
  {
   "cell_type": "code",
   "execution_count": 188,
   "metadata": {},
   "outputs": [
    {
     "data": {
      "text/plain": [
       "200"
      ]
     },
     "execution_count": 188,
     "metadata": {},
     "output_type": "execute_result"
    }
   ],
   "source": [
    "#url1 = 'https://api.github.com/repos/ironhack-datalabs/scavenger/contents/15534/.0008.scavengerhunt'\n",
    "#jokeH = requests.get(url1, head)\n",
    "#jokeH.status_code"
   ]
  },
  {
   "cell_type": "code",
   "execution_count": 195,
   "metadata": {},
   "outputs": [
    {
     "data": {
      "text/plain": [
       "0"
      ]
     },
     "execution_count": 195,
     "metadata": {},
     "output_type": "execute_result"
    }
   ],
   "source": [
    "code = []\n",
    "len(code)"
   ]
  },
  {
   "cell_type": "code",
   "execution_count": 196,
   "metadata": {},
   "outputs": [
    {
     "name": "stdout",
     "output_type": "stream",
     "text": [
      "('98750/.0001.scavengerhunt', 'SW4K\\n')\n",
      "('88596/.0002.scavengerhunt', 'ZGF0YQo=\\n')\n",
      "('60224/.0003.scavengerhunt', 'c2NpZW5jZSwK\\n')\n",
      "('68848/.0004.scavengerhunt', 'ODAK\\n')\n",
      "('44639/.0005.scavengerhunt', 'cGVyY2VudAo=\\n')\n",
      "('15024/.0006.scavengerhunt', 'b2YK\\n')\n",
      "('17020/.0007.scavengerhunt', 'dGltZQo=\\n')\n",
      "('15534/.0008.scavengerhunt', 'c3BlbnQK\\n')\n",
      "('97881/.0009.scavengerhunt', 'aXMK\\n')\n",
      "('47830/.0010.scavengerhunt', 'cHJlcGFyaW5nCg==\\n')\n",
      "('50896/.0011.scavengerhunt', 'ZGF0YSwK\\n')\n",
      "('15534/.0012.scavengerhunt', 'MjAK\\n')\n",
      "('89338/.0013.scavengerhunt', 'cGVyY2VudAo=\\n')\n",
      "('49418/.0014.scavengerhunt', 'b2YK\\n')\n",
      "('91701/.0015.scavengerhunt', 'dGltZQo=\\n')\n",
      "('47222/.0016.scavengerhunt', 'aXMK\\n')\n",
      "('70985/.0017.scavengerhunt', 'c3BlbnQK\\n')\n",
      "('45525/.0018.scavengerhunt', 'Y29tcGxhaW5pbmcK\\n')\n",
      "('70751/.0019.scavengerhunt', 'YWJvdXQK\\n')\n",
      "('55685/.0020.scavengerhunt', 'dGhlCg==\\n')\n",
      "('30351/.0021.scavengerhunt', 'bmVlZAo=\\n')\n",
      "('40303/.0022.scavengerhunt', 'dG8K\\n')\n",
      "('55417/.0023.scavengerhunt', 'cHJlcGFyZQo=\\n')\n",
      "('47222/.0024.scavengerhunt', 'ZGF0YS4K\\n')\n"
     ]
    }
   ],
   "source": [
    "head = {'Accept': 'application/vnd.github.v3.raw'}\n",
    "for i in range(len(path)):\n",
    "    url_ = f'https://api.github.com/repos/ironhack-datalabs/scavenger/contents/{path[i]}'\n",
    "    var = requests.get(url_, head).json()\n",
    "    time.sleep(10)\n",
    "    print((path[i],var['content']))\n",
    "    code.append(var['content'].strip('\\n')) "
   ]
  },
  {
   "cell_type": "code",
   "execution_count": 197,
   "metadata": {},
   "outputs": [
    {
     "data": {
      "text/plain": [
       "['SW4K',\n",
       " 'ZGF0YQo=',\n",
       " 'c2NpZW5jZSwK',\n",
       " 'ODAK',\n",
       " 'cGVyY2VudAo=',\n",
       " 'b2YK',\n",
       " 'dGltZQo=',\n",
       " 'c3BlbnQK',\n",
       " 'aXMK',\n",
       " 'cHJlcGFyaW5nCg==',\n",
       " 'ZGF0YSwK',\n",
       " 'MjAK',\n",
       " 'cGVyY2VudAo=',\n",
       " 'b2YK',\n",
       " 'dGltZQo=',\n",
       " 'aXMK',\n",
       " 'c3BlbnQK',\n",
       " 'Y29tcGxhaW5pbmcK',\n",
       " 'YWJvdXQK',\n",
       " 'dGhlCg==',\n",
       " 'bmVlZAo=',\n",
       " 'dG8K',\n",
       " 'cHJlcGFyZQo=',\n",
       " 'ZGF0YS4K']"
      ]
     },
     "execution_count": 197,
     "metadata": {},
     "output_type": "execute_result"
    }
   ],
   "source": [
    "code"
   ]
  },
  {
   "cell_type": "markdown",
   "metadata": {},
   "source": [
    "#### 4. Concatenate the strings in the array separating each two with a whitespace."
   ]
  },
  {
   "cell_type": "code",
   "execution_count": 266,
   "metadata": {},
   "outputs": [],
   "source": [
    "code_ = []\n",
    "for i in code:\n",
    "    code_.append(str(base64.urlsafe_b64decode(i)).strip('b').strip('\\'').strip('\\\\n'))"
   ]
  },
  {
   "cell_type": "markdown",
   "metadata": {},
   "source": [
    "#### 5. Print out the joke."
   ]
  },
  {
   "cell_type": "code",
   "execution_count": 267,
   "metadata": {},
   "outputs": [
    {
     "data": {
      "text/plain": [
       "'I data science, 80 percent of time spent is preparing data, 20 percent of time is spent complaining about the eed to prepare data.'"
      ]
     },
     "execution_count": 267,
     "metadata": {},
     "output_type": "execute_result"
    }
   ],
   "source": [
    "' '.join(code_)"
   ]
  },
  {
   "cell_type": "code",
   "execution_count": null,
   "metadata": {},
   "outputs": [],
   "source": []
  }
 ],
 "metadata": {
  "kernelspec": {
   "display_name": "Python 3",
   "language": "python",
   "name": "python3"
  },
  "language_info": {
   "codemirror_mode": {
    "name": "ipython",
    "version": 3
   },
   "file_extension": ".py",
   "mimetype": "text/x-python",
   "name": "python",
   "nbconvert_exporter": "python",
   "pygments_lexer": "ipython3",
   "version": "3.7.5"
  }
 },
 "nbformat": 4,
 "nbformat_minor": 2
}
