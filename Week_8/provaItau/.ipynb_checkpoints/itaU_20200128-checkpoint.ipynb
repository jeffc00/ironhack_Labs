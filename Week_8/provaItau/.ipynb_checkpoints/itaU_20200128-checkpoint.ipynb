{
 "cells": [
  {
   "cell_type": "code",
   "execution_count": 1,
   "metadata": {},
   "outputs": [],
   "source": [
    "import pandas as pd\n",
    "import numpy as np"
   ]
  },
  {
   "cell_type": "markdown",
   "metadata": {},
   "source": [
    "### Módulo 2 - Classificação"
   ]
  },
  {
   "cell_type": "code",
   "execution_count": 2,
   "metadata": {},
   "outputs": [],
   "source": [
    "class01 = pd.read_csv('class01.csv')"
   ]
  },
  {
   "cell_type": "code",
   "execution_count": 3,
   "metadata": {},
   "outputs": [],
   "source": [
    "X = class01.drop(columns='target')\n",
    "y = class01.target"
   ]
  },
  {
   "cell_type": "code",
   "execution_count": 4,
   "metadata": {},
   "outputs": [],
   "source": [
    "X_train = X.iloc[0:349]\n",
    "y_train = y.iloc[0:349]\n",
    "X_valid = X.iloc[350::]\n",
    "y_valid = y.iloc[350::]"
   ]
  },
  {
   "cell_type": "code",
   "execution_count": 5,
   "metadata": {},
   "outputs": [
    {
     "data": {
      "text/plain": [
       "(349, 100)"
      ]
     },
     "execution_count": 5,
     "metadata": {},
     "output_type": "execute_result"
    }
   ],
   "source": [
    "X_train.shape"
   ]
  },
  {
   "cell_type": "code",
   "execution_count": 6,
   "metadata": {},
   "outputs": [],
   "source": [
    "from sklearn.naive_bayes import GaussianNB\n",
    "from sklearn.model_selection import KFold\n",
    "from sklearn.metrics import classification_report, accuracy_score"
   ]
  },
  {
   "cell_type": "code",
   "execution_count": 7,
   "metadata": {},
   "outputs": [
    {
     "name": "stdout",
     "output_type": "stream",
     "text": [
      " Scores: [0.6857142857142857, 0.6142857142857143, 0.5571428571428572, 0.6142857142857143, 0.6376811594202898]\n",
      " Mean:0.622\n"
     ]
    }
   ],
   "source": [
    "# Metodologia Hold-Out\n",
    "model = GaussianNB()\n",
    "mycross = KFold(5)\n",
    "score_HO = []\n",
    "\n",
    "for train, test in mycross.split(X_train):\n",
    "        \n",
    "    Xcross_train, Xcross_test  = X_train.iloc[train], X_valid.iloc[test]\n",
    "    ycross_train, ycross_test  = y_train.iloc[train], y_valid.iloc[test]\n",
    "            \n",
    "    model.fit(Xcross_train, ycross_train)\n",
    "    \n",
    "    pred = model.predict(Xcross_test)\n",
    "    \n",
    "    score_HO.append( accuracy_score(ycross_test, pred) )\n",
    "else:\n",
    "    print(f' Scores: {score_HO}\\n Mean:{np.mean(score_HO):0.3f}')\n",
    "    \n",
    "    "
   ]
  },
  {
   "cell_type": "code",
   "execution_count": 8,
   "metadata": {},
   "outputs": [],
   "source": [
    "# Metodologia Leave one out\n",
    "from sklearn.model_selection import LeaveOneOut"
   ]
  },
  {
   "cell_type": "code",
   "execution_count": 11,
   "metadata": {},
   "outputs": [
    {
     "name": "stdout",
     "output_type": "stream",
     "text": [
      " Mean:0.667\n"
     ]
    }
   ],
   "source": [
    "scoreloo = []\n",
    "loo = LeaveOneOut()\n",
    "\n",
    "for train_index, test_index in loo.split(X_train):\n",
    "    \n",
    "    Xloo_train, yloo_train = X_train.iloc[train], y_train.iloc[train]\n",
    "        \n",
    "    Xloo_test, yloo_test = X_train.iloc[test], y_train.iloc[test]\n",
    "    \n",
    "    model.fit(Xloo_train, yloo_train)\n",
    "    \n",
    "    pred = model.predict(Xloo_test)\n",
    "    \n",
    "    scoreloo.append( accuracy_score(yloo_test, pred) )\n",
    "else:\n",
    "    print(f' Mean:{np.mean(scoreloo):0.3f}')"
   ]
  },
  {
   "cell_type": "code",
   "execution_count": 12,
   "metadata": {},
   "outputs": [
    {
     "data": {
      "text/plain": [
       "349"
      ]
     },
     "execution_count": 12,
     "metadata": {},
     "output_type": "execute_result"
    }
   ],
   "source": [
    "len(scoreloo)"
   ]
  },
  {
   "cell_type": "code",
   "execution_count": 10,
   "metadata": {},
   "outputs": [
    {
     "name": "stdout",
     "output_type": "stream",
     "text": [
      "Base Treino: 0.777\n",
      "Base Validação 0.611\n"
     ]
    }
   ],
   "source": [
    "base_treino = model.predict(X_train)\n",
    "base_valid = model.predict(X_valid)\n",
    "\n",
    "print(f'Base Treino: {accuracy_score(y_train, base_treino):0.3f}')\n",
    "print(f'Base Validação {accuracy_score(y_valid, base_valid):0.3f}')"
   ]
  },
  {
   "cell_type": "code",
   "execution_count": null,
   "metadata": {},
   "outputs": [],
   "source": []
  }
 ],
 "metadata": {
  "kernelspec": {
   "display_name": "Python 3",
   "language": "python",
   "name": "python3"
  },
  "language_info": {
   "codemirror_mode": {
    "name": "ipython",
    "version": 3
   },
   "file_extension": ".py",
   "mimetype": "text/x-python",
   "name": "python",
   "nbconvert_exporter": "python",
   "pygments_lexer": "ipython3",
   "version": "3.7.6"
  }
 },
 "nbformat": 4,
 "nbformat_minor": 2
}
