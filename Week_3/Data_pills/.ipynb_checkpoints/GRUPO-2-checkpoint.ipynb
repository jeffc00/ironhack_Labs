{
 "cells": [
  {
   "cell_type": "code",
   "execution_count": 2,
   "metadata": {},
   "outputs": [],
   "source": [
    "##input escolha de um número que irá ser o tamanho de uma matriz e uma matriz do mesmo tamanho do número\n",
    "##utilizar matriz quadrada\n",
    "\n",
    "def matriz(num, matriz):\n",
    "    # num = número do tamanho da matriz\n",
    "    # matriz = uma matriz que tenha o tamanho do número escolhido\n",
    "    # retorna a diferença das comas das diagonais da matriz\n",
    "    diag1 = 0\n",
    "    diag2 = 0\n",
    "    for i in range(num):\n",
    "        diag1 += matriz[i][i]\n",
    "    for j in range(num):\n",
    "        diag2 += matriz[j][(num-1)-j]\n",
    "        \n",
    "    return (diag1-diag2)"
   ]
  },
  {
   "cell_type": "code",
   "execution_count": null,
   "metadata": {},
   "outputs": [],
   "source": []
  },
  {
   "cell_type": "code",
   "execution_count": null,
   "metadata": {},
   "outputs": [],
   "source": []
  }
 ],
 "metadata": {
  "kernelspec": {
   "display_name": "Python 3",
   "language": "python",
   "name": "python3"
  },
  "language_info": {
   "codemirror_mode": {
    "name": "ipython",
    "version": 3
   },
   "file_extension": ".py",
   "mimetype": "text/x-python",
   "name": "python",
   "nbconvert_exporter": "python",
   "pygments_lexer": "ipython3",
   "version": "3.7.5"
  }
 },
 "nbformat": 4,
 "nbformat_minor": 2
}
