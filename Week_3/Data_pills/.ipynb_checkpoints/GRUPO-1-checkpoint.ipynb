{
 "cells": [
  {
   "cell_type": "code",
   "execution_count": 1,
   "metadata": {},
   "outputs": [],
   "source": [
    "import pandas as pd\n",
    "import random\n",
    "import numpy as np"
   ]
  },
  {
   "cell_type": "code",
   "execution_count": 9,
   "metadata": {},
   "outputs": [
    {
     "data": {
      "text/plain": [
       "142"
      ]
     },
     "execution_count": 9,
     "metadata": {},
     "output_type": "execute_result"
    }
   ],
   "source": [
    "lista0 = range(0,200)\n",
    "lista = random.randint(0,200)\n",
    "lista"
   ]
  },
  {
   "cell_type": "code",
   "execution_count": 10,
   "metadata": {},
   "outputs": [],
   "source": [
    "for i  in range(1,9):\n",
    "    for j in range(1,9):\n",
    "        lista0 = random.choice\n",
    "                \n",
    "f = []\n",
    "for y in range(4):\n",
    "    linha = [lista]\n",
    "    for x  in range(1,4):\n",
    "        linha.append(random.choice(range(1,9))) \n",
    "    f.append(linha)\n",
    "a = f\n",
    "\n"
   ]
  },
  {
   "cell_type": "code",
   "execution_count": 12,
   "metadata": {},
   "outputs": [],
   "source": [
    "##input escolha de um número que irá ser o tamanho de uma matriz e uma matriz do mesmo tamanho do número\n",
    "##utilizar matriz quadrada\n",
    "\n",
    "def matriz(num, matriz):\n",
    "    # num = número do tamanho da matriz\n",
    "    # matriz = uma matriz que tenha o tamanho do número escolhido\n",
    "    # retorna a diferença das comas das diagonais da matriz\n",
    "    diag1 = 0\n",
    "    diag2 = 0\n",
    "    for i in range(num):\n",
    "        diag1 += matriz[i][i]\n",
    "    for j in range(num):\n",
    "        diag2 += matriz[j][(num-1)-j]\n",
    "        \n",
    "    return (diag1-diag2)"
   ]
  },
  {
   "cell_type": "code",
   "execution_count": 13,
   "metadata": {},
   "outputs": [
    {
     "data": {
      "text/plain": [
       "5"
      ]
     },
     "execution_count": 13,
     "metadata": {},
     "output_type": "execute_result"
    }
   ],
   "source": [
    "matriz(4,a)"
   ]
  },
  {
   "cell_type": "code",
   "execution_count": null,
   "metadata": {},
   "outputs": [],
   "source": []
  }
 ],
 "metadata": {
  "kernelspec": {
   "display_name": "Python 3",
   "language": "python",
   "name": "python3"
  },
  "language_info": {
   "codemirror_mode": {
    "name": "ipython",
    "version": 3
   },
   "file_extension": ".py",
   "mimetype": "text/x-python",
   "name": "python",
   "nbconvert_exporter": "python",
   "pygments_lexer": "ipython3",
   "version": "3.7.5"
  }
 },
 "nbformat": 4,
 "nbformat_minor": 2
}
