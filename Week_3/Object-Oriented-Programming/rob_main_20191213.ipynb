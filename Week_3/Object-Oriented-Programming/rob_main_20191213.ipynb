{
 "cells": [
  {
   "cell_type": "markdown",
   "metadata": {},
   "source": [
    "#### We'll be working on object oriented programming, first create an Class named OperatingLists then add the methods on the following challenges to your class"
   ]
  },
  {
   "cell_type": "code",
   "execution_count": 38,
   "metadata": {},
   "outputs": [],
   "source": [
    "from collections import Counter\n",
    "\n",
    "class OperatingLists:\n",
    "\n",
    "    def __init__(self):\n",
    "        self=self\n",
    "\n",
    "    def remove(self, l1, l2):\n",
    "        n = len(l2)\n",
    "        for i in range(n):\n",
    "            while True:\n",
    "                try:\n",
    "                    l1.remove(l2[i])\n",
    "                except:\n",
    "                    break\n",
    "        return l1\n",
    "            \n",
    "    def count_spec_digits(self, l1, l2):\n",
    "        L = []\n",
    "        for i in range(len(l2)):\n",
    "            su=0\n",
    "            for j in range(len(l1)):\n",
    "                a = str(l1[j]).count( str(l2[i]) )\n",
    "                su+=a\n",
    "            L.append( ( l2[i],  su) )        \n",
    "\n",
    "        return L\n",
    "        \n",
    "        \n",
    "    \n",
    "    def ordered_count(self, string):\n",
    "        l = []\n",
    "        k = list(Counter(string).keys())\n",
    "        v = list(Counter(string).values())\n",
    "        for i in range(len(k)):\n",
    "            l.append( (k[i],v[i]) )\n",
    "        return l\n",
    "        \n",
    "        \n",
    "        \n",
    "        \n",
    "        \n",
    "        \n",
    "    "
   ]
  },
  {
   "cell_type": "markdown",
   "metadata": {},
   "source": [
    "# Challenge 1\n",
    "Define a method that removes from a given list of integers all the values contained in a second list."
   ]
  },
  {
   "cell_type": "code",
   "execution_count": 41,
   "metadata": {},
   "outputs": [
    {
     "name": "stdout",
     "output_type": "stream",
     "text": [
      "[2, 2, 4]\n",
      "[5, 6, 7, 8]\n",
      "[8, 7, 6, 5, 1]\n"
     ]
    }
   ],
   "source": [
    "# Once your code is working you should be abble to run the following code :\n",
    "\n",
    "#Create an object that belongs to the class you created in the previous cell\n",
    "l = OperatingLists()\n",
    "\n",
    "first_list =  [1, 1, 2 ,3 ,1 ,2 ,3 ,4]\n",
    "second_list = [1, 3]\n",
    "# [2, 2, 4]\n",
    "print(l.remove(first_list, second_list))\n",
    "\n",
    "third_list = [1, 1, 2 ,3 ,1 ,2 ,3 ,4, 4, 3 ,5, 6, 7, 2, 8]\n",
    "fourth_list= [1, 3, 4, 2]\n",
    "# [5,6,7,8]\n",
    "print(l.remove(third_list, fourth_list))\n",
    "\n",
    "fifth_list = [8, 2, 7, 2, 3, 4, 6, 5, 4, 4, 1, 2 , 3]\n",
    "sixth_list = [2, 4, 3]\n",
    "# [8, 7, 6, 5, 1]\n",
    "print(l.remove(fifth_list, sixth_list))"
   ]
  },
  {
   "cell_type": "markdown",
   "metadata": {},
   "source": [
    "# Challenge 2\n",
    "#### We need a method in the IntegralList Class that may count specific digits from a given list of integers. This marked digits will be given in a second list. \n",
    "#### The method will accept two arguments, a list of an uncertain amount of integers and a second list, that has the specific digits to count which length cannot be be longer than 10 (We've got ten digits).\n",
    "#### The method will output a list of tuples, each tuple having two elements, the first one will be a digit to count, and second one, its corresponding total frequency in all the integers of the first list.\n",
    "#### This list of tuples should be ordered with the same order that the digits have in the second list"
   ]
  },
  {
   "cell_type": "code",
   "execution_count": 42,
   "metadata": {},
   "outputs": [
    {
     "name": "stdout",
     "output_type": "stream",
     "text": [
      "[(1, 3), (3, 2)]\n",
      "[(1, 7), (8, 5), (4, 0)]\n",
      "[(1, 0), (8, 0), (4, 0)]\n"
     ]
    }
   ],
   "source": [
    "# Once your code is working you should be abble to run the following code :\n",
    "\n",
    "#Create an object that belongs to the class you created in the previous cell\n",
    "l = OperatingLists()\n",
    "\n",
    "first_list =  [1, 1, 2 ,3 ,1 ,2 ,3 ,4]\n",
    "second_list = [1, 3]\n",
    "# R: [(1, 3), (3, 2)]\n",
    "print(l.count_spec_digits(first_list, second_list))\n",
    "\n",
    "first_list = [-18, -31, 81, -19, 111, -888]\n",
    "second_list = [1, 8, 4]\n",
    "# R: [(1, 7), (8, 5), (4, 0)]\n",
    "print(l.count_spec_digits(first_list, second_list))\n",
    "\n",
    "first_list = [-77, -65, 56, -79, 6666, 222]\n",
    "second_list = [1, 8, 4]\n",
    "# R: [(1, 0), (8, 0), (4, 0)]\n",
    "print(l.count_spec_digits(first_list, second_list)) "
   ]
  },
  {
   "cell_type": "markdown",
   "metadata": {},
   "source": [
    "# Challenge 3\n",
    "#### Create a method that counts the number of occurrences of each character and return it as a list of tuples in order of appearance."
   ]
  },
  {
   "cell_type": "code",
   "execution_count": 43,
   "metadata": {},
   "outputs": [
    {
     "data": {
      "text/plain": [
       "[('a', 5), ('b', 2), ('r', 2), ('c', 1), ('d', 1)]"
      ]
     },
     "execution_count": 43,
     "metadata": {},
     "output_type": "execute_result"
    }
   ],
   "source": [
    "#Create an object that belongs to the class you created in the previous cell\n",
    "l = OperatingLists()\n",
    "# R: [('a', 5), ('b', 2), ('r', 2), ('c', 1), ('d', 1)]\n",
    "l.ordered_count(\"abracadabra\") "
   ]
  },
  {
   "cell_type": "code",
   "execution_count": null,
   "metadata": {},
   "outputs": [],
   "source": []
  }
 ],
 "metadata": {
  "kernelspec": {
   "display_name": "Python 3",
   "language": "python",
   "name": "python3"
  },
  "language_info": {
   "codemirror_mode": {
    "name": "ipython",
    "version": 3
   },
   "file_extension": ".py",
   "mimetype": "text/x-python",
   "name": "python",
   "nbconvert_exporter": "python",
   "pygments_lexer": "ipython3",
   "version": "3.7.5"
  }
 },
 "nbformat": 4,
 "nbformat_minor": 2
}
