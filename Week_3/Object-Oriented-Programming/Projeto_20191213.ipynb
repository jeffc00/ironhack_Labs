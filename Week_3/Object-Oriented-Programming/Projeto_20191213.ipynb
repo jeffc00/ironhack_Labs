{
 "cells": [
  {
   "cell_type": "code",
   "execution_count": null,
   "metadata": {},
   "outputs": [],
   "source": [
    "#Projeto OOP (Robson, Lucas e Evelyn)\n",
    "import numpy as np\n",
    "import random"
   ]
  },
  {
   "cell_type": "code",
   "execution_count": null,
   "metadata": {},
   "outputs": [],
   "source": [
    "class ListaTrio():\n",
    "    \n",
    "    def __init__(self, lista):\n",
    "        self.lista = lista\n",
    "        self.name = name\n",
    "    \n",
    "    def __repr__(self):\n",
    "        return f'Este é um projeto feito por Lucas, Evelyn e Robson'\n",
    "    \n",
    "    \n",
    "    def __str__(self):\n",
    "        return f'Este é um projeto feito por Lucas, Evelyn e Robson'\n",
    "    \n",
    "    def soma(self):\n",
    "        if type(self.lista[0]) == int:\n",
    "            su = 0\n",
    "            for i in self.lista:\n",
    "                su+=i\n",
    "            return su\n",
    "        else: \n",
    "            a = ''\n",
    "            for i in self.lista:\n",
    "                a+=i\n",
    "            return a\n",
    "    \n",
    "    def media(self):\n",
    "        if type(self.lista[0]) == int:\n",
    "            tam = 0\n",
    "            soma = 0\n",
    "            for i in self.lista:\n",
    "                soma+= i\n",
    "                tam += 1\n",
    "            return soma/tam\n",
    "        else:\n",
    "            return f'Não é possível fazer a média de strings'\n",
    "    \n",
    "    def minimo(self):\n",
    "        mi = self.lista[0]\n",
    "        for i in self.lista:\n",
    "            if i < mi:\n",
    "                mi = i\n",
    "        return mi\n",
    "    \n",
    "    def tamanho(self):\n",
    "        tam = 0\n",
    "        for i in self.lista:\n",
    "            tam += 1\n",
    "        return tam\n",
    "    \n",
    "    \n",
    "    def maximo(self):\n",
    "        ma = self.lista[0]\n",
    "        for i in self.lista:\n",
    "            if i>ma:\n",
    "                ma = i\n",
    "        return ma\n",
    "    \n",
    "    def desviopadrao(self):\n",
    "        m = np.mean(self.lista)\n",
    "        su = 0\n",
    "        for i in self.lista:\n",
    "            su += (i-m)**2\n",
    "        return (su/len(self.lista))**0.5\n",
    "    \n",
    "    def multiplicar(self,x):\n",
    "        L = []\n",
    "        for i in self.lista:\n",
    "            L.append(x*i)\n",
    "        return L\n",
    "    \n",
    "    def mediana(self):\n",
    "        self.lista.sort()\n",
    "        n = len(self.lista)\n",
    "        if n%2!=0:\n",
    "            return self.lista[ (n//2) ]\n",
    "        else:\n",
    "            x = self.lista[n//2-1] + self.lista[ n//2]\n",
    "            return x/2"
   ]
  },
  {
   "cell_type": "code",
   "execution_count": 437,
   "metadata": {},
   "outputs": [
    {
     "name": "stdout",
     "output_type": "stream",
     "text": [
      "Digite seis números separados para o próximo jogo da mega sena13 11 13 56 13 87\n"
     ]
    }
   ],
   "source": [
    "val = input(f'Digite seis números separados para o próximo jogo da mega sena')\n",
    "L = list(map(int, val.split()))\n",
    "jogomega = ListaTrio(L)"
   ]
  },
  {
   "cell_type": "code",
   "execution_count": 438,
   "metadata": {},
   "outputs": [
    {
     "name": "stdout",
     "output_type": "stream",
     "text": [
      "Este é um projeto feito por Lucas, Evelyn e Robson\n"
     ]
    }
   ],
   "source": [
    "print(jogomega)"
   ]
  },
  {
   "cell_type": "code",
   "execution_count": 439,
   "metadata": {},
   "outputs": [
    {
     "name": "stdout",
     "output_type": "stream",
     "text": [
      "Desvio Padrão: 29.225654635762893\n",
      "Lista: [13, 11, 13, 56, 13, 87]\n",
      "Máximo: 87\n",
      "Média: 32.166666666666664\n",
      "Mediana: 13.0\n",
      "Mínimo: 11\n",
      "Soma: 193\n",
      "Número de jogos: 6\n"
     ]
    }
   ],
   "source": [
    "print(f'Desvio Padrão: {jogomega.desviopadrao()}')\n",
    "print(f'Lista: {jogomega.lista}')\n",
    "print(f'Máximo: {jogomega.maximo()}')\n",
    "print(f'Média: {jogomega.media()}')\n",
    "print(f'Mediana: {jogomega.mediana()}')\n",
    "print(f'Mínimo: {jogomega.minimo()}')\n",
    "print(f'Soma: {jogomega.soma()}')\n",
    "print(f'Número de jogos: {jogomega.tamanho()}')"
   ]
  },
  {
   "cell_type": "code",
   "execution_count": 441,
   "metadata": {},
   "outputs": [
    {
     "name": "stdout",
     "output_type": "stream",
     "text": [
      "Multiplicar: [55, 65, 65, 65, 280, 435]\n"
     ]
    }
   ],
   "source": [
    "x = 5\n",
    "print(f'Multiplicar: {jogomega.multiplicar(x)}')\n"
   ]
  },
  {
   "cell_type": "code",
   "execution_count": 442,
   "metadata": {},
   "outputs": [
    {
     "name": "stdout",
     "output_type": "stream",
     "text": [
      "Esse é o nosso Oráculo, especialista em descobrir o futuro dos IronHackers.\n",
      "Para começar digite o seu nome....\n",
      "Lucas\n",
      "\n",
      "\n",
      "\n",
      "Humm... já sabemos tudo sobre você, e o que você quer desbrir agora?\n",
      ".job()\n",
      ".company()\n",
      ".especialista()\n",
      ".local()\n",
      ".salario()\n",
      ".filhos()\n",
      ".humor()\n"
     ]
    }
   ],
   "source": [
    "class Oraculo():\n",
    "    def __init__(self, nome):\n",
    "        self.nome = nome    \n",
    "            \n",
    "    def job(self):\n",
    "        job = [\"Data Analytics\", \"Diretor\", \"Estagiário\",\"Data Scientist\"]\n",
    "        n = random.choice(job)\n",
    "        return f\"{self.nome}, voce sera um {n}.\"    \n",
    "        \n",
    "    def company(self):\n",
    "        company = [\"IronHack\",\"Google\",\"Startup\", \"Ifood\"]\n",
    "        n = random.choice(company)\n",
    "        return f\"{self.nome}, você vai trabalhar no(a) {n}.\"    \n",
    "        \n",
    "    def especialista(self):\n",
    "        especialista=[\"SQL\", \"Python\",\"Limpar planilha de tubarão\",\"RegEx\"]\n",
    "        n = random.choice(especialista)\n",
    "        return f\"{self.nome}, você vai ser especialista em {n}.\"    \n",
    "    \n",
    "    def local(self):\n",
    "        local=[\"Berlim\", \"Tokio\", \"SP\", \"Bangkok\"]\n",
    "        n = random.choice(local)\n",
    "        return f\"{self.nome}, você vai morar em {n}.\"    \n",
    "        \n",
    "    def salario(self):\n",
    "        salario=[\"R$ 1000,00\",\"R$ 10.000,00\", \"US$ 7.500,00\", \"€ 8.000,00\"]\n",
    "        n = random.choice(salario)\n",
    "        return f\"{self.nome}, o seu salário será de {n}.\" \n",
    "        \n",
    "    def filhos(self):\n",
    "        n = random.randint(0,20)\n",
    "        return f\"{self.nome}, você terá {n} filhos.\"  \n",
    "    \n",
    "    def humor(self):\n",
    "        humor=[\"muito feliz\", \"frustado(a)\", \"triste\",\"satisfeito(a)\"]\n",
    "        n = random.choice(humor)\n",
    "        return f\"{self.nome}, voce sera {n} com a sua vida.\"\n",
    "\n",
    "nome = str(input('Esse é o nosso Oráculo, especialista em descobrir o futuro dos IronHackers.\\nPara começar digite o seu nome....\\n'))\n",
    "print('\\n\\n\\nHumm... já sabemos tudo sobre você, e o que você quer desbrir agora?')\n",
    "print('.job()\\n.company()\\n.especialista()\\n.local()\\n.salario()\\n.filhos()\\n.humor()')\n",
    "\n",
    "previsao = Oraculo(nome)"
   ]
  },
  {
   "cell_type": "code",
   "execution_count": 443,
   "metadata": {},
   "outputs": [
    {
     "data": {
      "text/plain": [
       "'Lucas, voce sera um Estagiário.'"
      ]
     },
     "execution_count": 443,
     "metadata": {},
     "output_type": "execute_result"
    }
   ],
   "source": [
    "previsao.job()"
   ]
  },
  {
   "cell_type": "code",
   "execution_count": 444,
   "metadata": {},
   "outputs": [
    {
     "data": {
      "text/plain": [
       "'Lucas, você vai trabalhar no(a) Ifood.'"
      ]
     },
     "execution_count": 444,
     "metadata": {},
     "output_type": "execute_result"
    }
   ],
   "source": [
    "previsao.company()"
   ]
  },
  {
   "cell_type": "code",
   "execution_count": 445,
   "metadata": {},
   "outputs": [
    {
     "data": {
      "text/plain": [
       "'Lucas, você vai ser especialista em SQL.'"
      ]
     },
     "execution_count": 445,
     "metadata": {},
     "output_type": "execute_result"
    }
   ],
   "source": [
    "previsao.especialista()"
   ]
  },
  {
   "cell_type": "code",
   "execution_count": 446,
   "metadata": {},
   "outputs": [
    {
     "data": {
      "text/plain": [
       "'Lucas, você vai morar em Tokio.'"
      ]
     },
     "execution_count": 446,
     "metadata": {},
     "output_type": "execute_result"
    }
   ],
   "source": [
    "previsao.local()"
   ]
  },
  {
   "cell_type": "code",
   "execution_count": 447,
   "metadata": {},
   "outputs": [
    {
     "data": {
      "text/plain": [
       "'Lucas, o seu salário será de R$ 10.000,00.'"
      ]
     },
     "execution_count": 447,
     "metadata": {},
     "output_type": "execute_result"
    }
   ],
   "source": [
    "previsao.salario()"
   ]
  },
  {
   "cell_type": "code",
   "execution_count": 448,
   "metadata": {},
   "outputs": [
    {
     "data": {
      "text/plain": [
       "'Lucas, você terá 6 filhos.'"
      ]
     },
     "execution_count": 448,
     "metadata": {},
     "output_type": "execute_result"
    }
   ],
   "source": [
    "previsao.filhos()"
   ]
  },
  {
   "cell_type": "code",
   "execution_count": 449,
   "metadata": {},
   "outputs": [
    {
     "data": {
      "text/plain": [
       "'Lucas, voce sera frustado(a) com a sua vida.'"
      ]
     },
     "execution_count": 449,
     "metadata": {},
     "output_type": "execute_result"
    }
   ],
   "source": [
    "previsao.humor()"
   ]
  },
  {
   "cell_type": "code",
   "execution_count": null,
   "metadata": {},
   "outputs": [],
   "source": []
  }
 ],
 "metadata": {
  "kernelspec": {
   "display_name": "Python 3",
   "language": "python",
   "name": "python3"
  },
  "language_info": {
   "codemirror_mode": {
    "name": "ipython",
    "version": 3
   },
   "file_extension": ".py",
   "mimetype": "text/x-python",
   "name": "python",
   "nbconvert_exporter": "python",
   "pygments_lexer": "ipython3",
   "version": "3.7.5"
  }
 },
 "nbformat": 4,
 "nbformat_minor": 2
}
