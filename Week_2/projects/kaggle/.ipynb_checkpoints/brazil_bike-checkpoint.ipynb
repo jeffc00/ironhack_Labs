{
 "cells": [
  {
   "cell_type": "code",
   "execution_count": null,
   "metadata": {},
   "outputs": [],
   "source": [
    "import pandas as pd\n",
    "import numpy as np\n",
    "import matplotlib.pyplot as plt\n",
    "import seaborn as sns\n",
    "from datetime import datetime as dt"
   ]
  },
  {
   "cell_type": "code",
   "execution_count": 237,
   "metadata": {},
   "outputs": [],
   "source": [
    "bike = pd.read_csv('../kaggle/data/df_rides.csv')\n",
    "# https://github.com/josegrlopes/bikesharingsystem_BrasiliaBR"
   ]
  },
  {
   "cell_type": "code",
   "execution_count": 238,
   "metadata": {},
   "outputs": [
    {
     "name": "stdout",
     "output_type": "stream",
     "text": [
      "<class 'pandas.core.frame.DataFrame'>\n",
      "RangeIndex: 287322 entries, 0 to 287321\n",
      "Data columns (total 10 columns):\n",
      "user_gender       286926 non-null object\n",
      "user_birthdate    287321 non-null object\n",
      "user_residence    107417 non-null object\n",
      "ride_date         287322 non-null object\n",
      "time_start        287322 non-null object\n",
      "time_end          244037 non-null object\n",
      "station_start     287322 non-null object\n",
      "station_end       287322 non-null object\n",
      "ride_duration     214148 non-null float64\n",
      "ride_late         214148 non-null float64\n",
      "dtypes: float64(2), object(8)\n",
      "memory usage: 21.9+ MB\n"
     ]
    }
   ],
   "source": [
    "bike.info()\n",
    "# Total data 287.322\n",
    "#ride_data = ok\n",
    "#time_start = ok\n",
    "#station_start = ok\n",
    "# station_end = ok"
   ]
  },
  {
   "cell_type": "code",
   "execution_count": 239,
   "metadata": {},
   "outputs": [
    {
     "name": "stdout",
     "output_type": "stream",
     "text": [
      "<class 'pandas.core.frame.DataFrame'>\n",
      "Int64Index: 287321 entries, 0 to 287321\n",
      "Data columns (total 10 columns):\n",
      "user_gender       286925 non-null object\n",
      "user_birthdate    287321 non-null object\n",
      "user_residence    107416 non-null object\n",
      "ride_date         287321 non-null object\n",
      "time_start        287321 non-null object\n",
      "time_end          244036 non-null object\n",
      "station_start     287321 non-null object\n",
      "station_end       287321 non-null object\n",
      "ride_duration     214147 non-null float64\n",
      "ride_late         214147 non-null float64\n",
      "dtypes: float64(2), object(8)\n",
      "memory usage: 24.1+ MB\n"
     ]
    }
   ],
   "source": [
    "#Retirei uma data de nascimento null.\n",
    "bike.drop(index=37921,axis=0,inplace=True)\n",
    "bike.info()"
   ]
  },
  {
   "cell_type": "code",
   "execution_count": 240,
   "metadata": {},
   "outputs": [
    {
     "data": {
      "text/html": [
       "<div>\n",
       "<style scoped>\n",
       "    .dataframe tbody tr th:only-of-type {\n",
       "        vertical-align: middle;\n",
       "    }\n",
       "\n",
       "    .dataframe tbody tr th {\n",
       "        vertical-align: top;\n",
       "    }\n",
       "\n",
       "    .dataframe thead th {\n",
       "        text-align: right;\n",
       "    }\n",
       "</style>\n",
       "<table border=\"1\" class=\"dataframe\">\n",
       "  <thead>\n",
       "    <tr style=\"text-align: right;\">\n",
       "      <th></th>\n",
       "      <th>index</th>\n",
       "      <th>user_gender</th>\n",
       "      <th>user_birthdate</th>\n",
       "      <th>user_residence</th>\n",
       "      <th>ride_date</th>\n",
       "      <th>time_start</th>\n",
       "      <th>time_end</th>\n",
       "      <th>station_start</th>\n",
       "      <th>station_end</th>\n",
       "      <th>ride_duration</th>\n",
       "      <th>ride_late</th>\n",
       "    </tr>\n",
       "  </thead>\n",
       "  <tbody>\n",
       "    <tr>\n",
       "      <th>0</th>\n",
       "      <td>0</td>\n",
       "      <td>M</td>\n",
       "      <td>1971-06-08</td>\n",
       "      <td>NaN</td>\n",
       "      <td>2018-01-01</td>\n",
       "      <td>06:05:18</td>\n",
       "      <td>06:21:33</td>\n",
       "      <td>11 - Rodoviária 2</td>\n",
       "      <td>41 - Instituto de Artes</td>\n",
       "      <td>16.250000</td>\n",
       "      <td>0.0</td>\n",
       "    </tr>\n",
       "    <tr>\n",
       "      <th>1</th>\n",
       "      <td>1</td>\n",
       "      <td>M</td>\n",
       "      <td>1989-02-11</td>\n",
       "      <td>DF</td>\n",
       "      <td>2018-01-01</td>\n",
       "      <td>06:27:01</td>\n",
       "      <td>06:32:17</td>\n",
       "      <td>26 - Ministério da Saude</td>\n",
       "      <td>28 - CNMP - Conselho Nacional do Ministério Pú...</td>\n",
       "      <td>5.266667</td>\n",
       "      <td>0.0</td>\n",
       "    </tr>\n",
       "    <tr>\n",
       "      <th>2</th>\n",
       "      <td>2</td>\n",
       "      <td>M</td>\n",
       "      <td>1968-07-19</td>\n",
       "      <td>NaN</td>\n",
       "      <td>2018-01-01</td>\n",
       "      <td>06:29:33</td>\n",
       "      <td>06:44:57</td>\n",
       "      <td>11 - Rodoviária 2</td>\n",
       "      <td>43 - Biblioteca Central</td>\n",
       "      <td>15.400000</td>\n",
       "      <td>0.0</td>\n",
       "    </tr>\n",
       "    <tr>\n",
       "      <th>3</th>\n",
       "      <td>3</td>\n",
       "      <td>M</td>\n",
       "      <td>1991-12-19</td>\n",
       "      <td>NaN</td>\n",
       "      <td>2018-01-01</td>\n",
       "      <td>06:53:53</td>\n",
       "      <td>06:59:45</td>\n",
       "      <td>10 - Ministério dos Transportes</td>\n",
       "      <td>6 - Rodoviária</td>\n",
       "      <td>5.866667</td>\n",
       "      <td>0.0</td>\n",
       "    </tr>\n",
       "    <tr>\n",
       "      <th>4</th>\n",
       "      <td>4</td>\n",
       "      <td>M</td>\n",
       "      <td>1969-03-03</td>\n",
       "      <td>DF</td>\n",
       "      <td>2018-01-01</td>\n",
       "      <td>06:58:56</td>\n",
       "      <td>17:40:04</td>\n",
       "      <td>15 - Brasil 21</td>\n",
       "      <td>11 - Rodoviária 2</td>\n",
       "      <td>641.133333</td>\n",
       "      <td>1.0</td>\n",
       "    </tr>\n",
       "  </tbody>\n",
       "</table>\n",
       "</div>"
      ],
      "text/plain": [
       "   index user_gender user_birthdate user_residence   ride_date time_start  \\\n",
       "0      0           M     1971-06-08            NaN  2018-01-01   06:05:18   \n",
       "1      1           M     1989-02-11             DF  2018-01-01   06:27:01   \n",
       "2      2           M     1968-07-19            NaN  2018-01-01   06:29:33   \n",
       "3      3           M     1991-12-19            NaN  2018-01-01   06:53:53   \n",
       "4      4           M     1969-03-03             DF  2018-01-01   06:58:56   \n",
       "\n",
       "   time_end                    station_start  \\\n",
       "0  06:21:33                11 - Rodoviária 2   \n",
       "1  06:32:17         26 - Ministério da Saude   \n",
       "2  06:44:57                11 - Rodoviária 2   \n",
       "3  06:59:45  10 - Ministério dos Transportes   \n",
       "4  17:40:04                   15 - Brasil 21   \n",
       "\n",
       "                                         station_end  ride_duration  ride_late  \n",
       "0                            41 - Instituto de Artes      16.250000        0.0  \n",
       "1  28 - CNMP - Conselho Nacional do Ministério Pú...       5.266667        0.0  \n",
       "2                            43 - Biblioteca Central      15.400000        0.0  \n",
       "3                                     6 - Rodoviária       5.866667        0.0  \n",
       "4                                  11 - Rodoviária 2     641.133333        1.0  "
      ]
     },
     "execution_count": 240,
     "metadata": {},
     "output_type": "execute_result"
    }
   ],
   "source": [
    "bike.reset_index(inplace=True)\n",
    "bike.head()"
   ]
  },
  {
   "cell_type": "code",
   "execution_count": 241,
   "metadata": {},
   "outputs": [],
   "source": [
    "bike.drop(columns='index', inplace=True)"
   ]
  },
  {
   "cell_type": "code",
   "execution_count": 242,
   "metadata": {},
   "outputs": [
    {
     "data": {
      "text/html": [
       "<div>\n",
       "<style scoped>\n",
       "    .dataframe tbody tr th:only-of-type {\n",
       "        vertical-align: middle;\n",
       "    }\n",
       "\n",
       "    .dataframe tbody tr th {\n",
       "        vertical-align: top;\n",
       "    }\n",
       "\n",
       "    .dataframe thead th {\n",
       "        text-align: right;\n",
       "    }\n",
       "</style>\n",
       "<table border=\"1\" class=\"dataframe\">\n",
       "  <thead>\n",
       "    <tr style=\"text-align: right;\">\n",
       "      <th></th>\n",
       "      <th>user_gender</th>\n",
       "      <th>user_birthdate</th>\n",
       "      <th>user_residence</th>\n",
       "      <th>ride_date</th>\n",
       "      <th>time_start</th>\n",
       "      <th>time_end</th>\n",
       "      <th>station_start</th>\n",
       "      <th>station_end</th>\n",
       "      <th>ride_duration</th>\n",
       "      <th>ride_late</th>\n",
       "    </tr>\n",
       "  </thead>\n",
       "  <tbody>\n",
       "    <tr>\n",
       "      <th>0</th>\n",
       "      <td>M</td>\n",
       "      <td>1971-06-08</td>\n",
       "      <td>NaN</td>\n",
       "      <td>2018-01-01</td>\n",
       "      <td>06:05:18</td>\n",
       "      <td>06:21:33</td>\n",
       "      <td>11 - Rodoviária 2</td>\n",
       "      <td>41 - Instituto de Artes</td>\n",
       "      <td>16.250000</td>\n",
       "      <td>0.0</td>\n",
       "    </tr>\n",
       "    <tr>\n",
       "      <th>1</th>\n",
       "      <td>M</td>\n",
       "      <td>1989-02-11</td>\n",
       "      <td>DF</td>\n",
       "      <td>2018-01-01</td>\n",
       "      <td>06:27:01</td>\n",
       "      <td>06:32:17</td>\n",
       "      <td>26 - Ministério da Saude</td>\n",
       "      <td>28 - CNMP - Conselho Nacional do Ministério Pú...</td>\n",
       "      <td>5.266667</td>\n",
       "      <td>0.0</td>\n",
       "    </tr>\n",
       "    <tr>\n",
       "      <th>2</th>\n",
       "      <td>M</td>\n",
       "      <td>1968-07-19</td>\n",
       "      <td>NaN</td>\n",
       "      <td>2018-01-01</td>\n",
       "      <td>06:29:33</td>\n",
       "      <td>06:44:57</td>\n",
       "      <td>11 - Rodoviária 2</td>\n",
       "      <td>43 - Biblioteca Central</td>\n",
       "      <td>15.400000</td>\n",
       "      <td>0.0</td>\n",
       "    </tr>\n",
       "    <tr>\n",
       "      <th>3</th>\n",
       "      <td>M</td>\n",
       "      <td>1991-12-19</td>\n",
       "      <td>NaN</td>\n",
       "      <td>2018-01-01</td>\n",
       "      <td>06:53:53</td>\n",
       "      <td>06:59:45</td>\n",
       "      <td>10 - Ministério dos Transportes</td>\n",
       "      <td>6 - Rodoviária</td>\n",
       "      <td>5.866667</td>\n",
       "      <td>0.0</td>\n",
       "    </tr>\n",
       "    <tr>\n",
       "      <th>4</th>\n",
       "      <td>M</td>\n",
       "      <td>1969-03-03</td>\n",
       "      <td>DF</td>\n",
       "      <td>2018-01-01</td>\n",
       "      <td>06:58:56</td>\n",
       "      <td>17:40:04</td>\n",
       "      <td>15 - Brasil 21</td>\n",
       "      <td>11 - Rodoviária 2</td>\n",
       "      <td>641.133333</td>\n",
       "      <td>1.0</td>\n",
       "    </tr>\n",
       "  </tbody>\n",
       "</table>\n",
       "</div>"
      ],
      "text/plain": [
       "  user_gender user_birthdate user_residence   ride_date time_start  time_end  \\\n",
       "0           M     1971-06-08            NaN  2018-01-01   06:05:18  06:21:33   \n",
       "1           M     1989-02-11             DF  2018-01-01   06:27:01  06:32:17   \n",
       "2           M     1968-07-19            NaN  2018-01-01   06:29:33  06:44:57   \n",
       "3           M     1991-12-19            NaN  2018-01-01   06:53:53  06:59:45   \n",
       "4           M     1969-03-03             DF  2018-01-01   06:58:56  17:40:04   \n",
       "\n",
       "                     station_start  \\\n",
       "0                11 - Rodoviária 2   \n",
       "1         26 - Ministério da Saude   \n",
       "2                11 - Rodoviária 2   \n",
       "3  10 - Ministério dos Transportes   \n",
       "4                   15 - Brasil 21   \n",
       "\n",
       "                                         station_end  ride_duration  ride_late  \n",
       "0                            41 - Instituto de Artes      16.250000        0.0  \n",
       "1  28 - CNMP - Conselho Nacional do Ministério Pú...       5.266667        0.0  \n",
       "2                            43 - Biblioteca Central      15.400000        0.0  \n",
       "3                                     6 - Rodoviária       5.866667        0.0  \n",
       "4                                  11 - Rodoviária 2     641.133333        1.0  "
      ]
     },
     "execution_count": 242,
     "metadata": {},
     "output_type": "execute_result"
    }
   ],
   "source": [
    "bike.head()"
   ]
  },
  {
   "cell_type": "code",
   "execution_count": 243,
   "metadata": {},
   "outputs": [
    {
     "data": {
      "text/plain": [
       "'2018-01-01'"
      ]
     },
     "execution_count": 243,
     "metadata": {},
     "output_type": "execute_result"
    }
   ],
   "source": [
    "bike['ride_date'].min()"
   ]
  },
  {
   "cell_type": "code",
   "execution_count": 244,
   "metadata": {},
   "outputs": [
    {
     "data": {
      "text/plain": [
       "'2018-08-31'"
      ]
     },
     "execution_count": 244,
     "metadata": {},
     "output_type": "execute_result"
    }
   ],
   "source": [
    "bike['ride_date'].max()"
   ]
  },
  {
   "cell_type": "code",
   "execution_count": 245,
   "metadata": {},
   "outputs": [
    {
     "data": {
      "text/plain": [
       "50"
      ]
     },
     "execution_count": 245,
     "metadata": {},
     "output_type": "execute_result"
    }
   ],
   "source": [
    "len(bike['station_start'].unique())"
   ]
  },
  {
   "cell_type": "code",
   "execution_count": 246,
   "metadata": {},
   "outputs": [
    {
     "data": {
      "text/plain": [
       "50"
      ]
     },
     "execution_count": 246,
     "metadata": {},
     "output_type": "execute_result"
    }
   ],
   "source": [
    "len(bike['station_end'].unique())"
   ]
  },
  {
   "cell_type": "code",
   "execution_count": 247,
   "metadata": {},
   "outputs": [],
   "source": [
    "bike['user_birthdate'] = bike['user_birthdate'].apply( lambda x: dt.strptime(x, '%Y-%m-%d'))"
   ]
  },
  {
   "cell_type": "code",
   "execution_count": 248,
   "metadata": {},
   "outputs": [
    {
     "data": {
      "text/plain": [
       "1971"
      ]
     },
     "execution_count": 248,
     "metadata": {},
     "output_type": "execute_result"
    }
   ],
   "source": [
    "bike['user_birthdate'][0].year"
   ]
  },
  {
   "cell_type": "code",
   "execution_count": 249,
   "metadata": {},
   "outputs": [],
   "source": [
    "bike['age'] = 0"
   ]
  },
  {
   "cell_type": "code",
   "execution_count": 250,
   "metadata": {},
   "outputs": [],
   "source": [
    "bike['age'] = bike['user_birthdate'].apply(lambda x: int((dt.now() - x).days/365))"
   ]
  },
  {
   "cell_type": "code",
   "execution_count": 251,
   "metadata": {},
   "outputs": [
    {
     "data": {
      "text/html": [
       "<div>\n",
       "<style scoped>\n",
       "    .dataframe tbody tr th:only-of-type {\n",
       "        vertical-align: middle;\n",
       "    }\n",
       "\n",
       "    .dataframe tbody tr th {\n",
       "        vertical-align: top;\n",
       "    }\n",
       "\n",
       "    .dataframe thead th {\n",
       "        text-align: right;\n",
       "    }\n",
       "</style>\n",
       "<table border=\"1\" class=\"dataframe\">\n",
       "  <thead>\n",
       "    <tr style=\"text-align: right;\">\n",
       "      <th></th>\n",
       "      <th>age</th>\n",
       "      <th>user_gender</th>\n",
       "      <th>user_birthdate</th>\n",
       "      <th>user_residence</th>\n",
       "      <th>ride_date</th>\n",
       "      <th>time_start</th>\n",
       "      <th>time_end</th>\n",
       "      <th>station_start</th>\n",
       "      <th>station_end</th>\n",
       "      <th>ride_duration</th>\n",
       "      <th>ride_late</th>\n",
       "    </tr>\n",
       "  </thead>\n",
       "  <tbody>\n",
       "    <tr>\n",
       "      <th>0</th>\n",
       "      <td>48</td>\n",
       "      <td>M</td>\n",
       "      <td>1971-06-08</td>\n",
       "      <td>NaN</td>\n",
       "      <td>2018-01-01</td>\n",
       "      <td>06:05:18</td>\n",
       "      <td>06:21:33</td>\n",
       "      <td>11 - Rodoviária 2</td>\n",
       "      <td>41 - Instituto de Artes</td>\n",
       "      <td>16.250000</td>\n",
       "      <td>0.0</td>\n",
       "    </tr>\n",
       "    <tr>\n",
       "      <th>1</th>\n",
       "      <td>30</td>\n",
       "      <td>M</td>\n",
       "      <td>1989-02-11</td>\n",
       "      <td>DF</td>\n",
       "      <td>2018-01-01</td>\n",
       "      <td>06:27:01</td>\n",
       "      <td>06:32:17</td>\n",
       "      <td>26 - Ministério da Saude</td>\n",
       "      <td>28 - CNMP - Conselho Nacional do Ministério Pú...</td>\n",
       "      <td>5.266667</td>\n",
       "      <td>0.0</td>\n",
       "    </tr>\n",
       "    <tr>\n",
       "      <th>2</th>\n",
       "      <td>51</td>\n",
       "      <td>M</td>\n",
       "      <td>1968-07-19</td>\n",
       "      <td>NaN</td>\n",
       "      <td>2018-01-01</td>\n",
       "      <td>06:29:33</td>\n",
       "      <td>06:44:57</td>\n",
       "      <td>11 - Rodoviária 2</td>\n",
       "      <td>43 - Biblioteca Central</td>\n",
       "      <td>15.400000</td>\n",
       "      <td>0.0</td>\n",
       "    </tr>\n",
       "    <tr>\n",
       "      <th>3</th>\n",
       "      <td>27</td>\n",
       "      <td>M</td>\n",
       "      <td>1991-12-19</td>\n",
       "      <td>NaN</td>\n",
       "      <td>2018-01-01</td>\n",
       "      <td>06:53:53</td>\n",
       "      <td>06:59:45</td>\n",
       "      <td>10 - Ministério dos Transportes</td>\n",
       "      <td>6 - Rodoviária</td>\n",
       "      <td>5.866667</td>\n",
       "      <td>0.0</td>\n",
       "    </tr>\n",
       "    <tr>\n",
       "      <th>4</th>\n",
       "      <td>50</td>\n",
       "      <td>M</td>\n",
       "      <td>1969-03-03</td>\n",
       "      <td>DF</td>\n",
       "      <td>2018-01-01</td>\n",
       "      <td>06:58:56</td>\n",
       "      <td>17:40:04</td>\n",
       "      <td>15 - Brasil 21</td>\n",
       "      <td>11 - Rodoviária 2</td>\n",
       "      <td>641.133333</td>\n",
       "      <td>1.0</td>\n",
       "    </tr>\n",
       "  </tbody>\n",
       "</table>\n",
       "</div>"
      ],
      "text/plain": [
       "   age user_gender user_birthdate user_residence   ride_date time_start  \\\n",
       "0   48           M     1971-06-08            NaN  2018-01-01   06:05:18   \n",
       "1   30           M     1989-02-11             DF  2018-01-01   06:27:01   \n",
       "2   51           M     1968-07-19            NaN  2018-01-01   06:29:33   \n",
       "3   27           M     1991-12-19            NaN  2018-01-01   06:53:53   \n",
       "4   50           M     1969-03-03             DF  2018-01-01   06:58:56   \n",
       "\n",
       "   time_end                    station_start  \\\n",
       "0  06:21:33                11 - Rodoviária 2   \n",
       "1  06:32:17         26 - Ministério da Saude   \n",
       "2  06:44:57                11 - Rodoviária 2   \n",
       "3  06:59:45  10 - Ministério dos Transportes   \n",
       "4  17:40:04                   15 - Brasil 21   \n",
       "\n",
       "                                         station_end  ride_duration  ride_late  \n",
       "0                            41 - Instituto de Artes      16.250000        0.0  \n",
       "1  28 - CNMP - Conselho Nacional do Ministério Pú...       5.266667        0.0  \n",
       "2                            43 - Biblioteca Central      15.400000        0.0  \n",
       "3                                     6 - Rodoviária       5.866667        0.0  \n",
       "4                                  11 - Rodoviária 2     641.133333        1.0  "
      ]
     },
     "execution_count": 251,
     "metadata": {},
     "output_type": "execute_result"
    }
   ],
   "source": [
    "cols = [10,0,1,2,3,4,5,6,7,8,9]\n",
    "bike = bike[bike.columns[cols]]\n",
    "bike.head()"
   ]
  },
  {
   "cell_type": "code",
   "execution_count": 252,
   "metadata": {},
   "outputs": [
    {
     "data": {
      "text/html": [
       "<div>\n",
       "<style scoped>\n",
       "    .dataframe tbody tr th:only-of-type {\n",
       "        vertical-align: middle;\n",
       "    }\n",
       "\n",
       "    .dataframe tbody tr th {\n",
       "        vertical-align: top;\n",
       "    }\n",
       "\n",
       "    .dataframe thead th {\n",
       "        text-align: right;\n",
       "    }\n",
       "</style>\n",
       "<table border=\"1\" class=\"dataframe\">\n",
       "  <thead>\n",
       "    <tr style=\"text-align: right;\">\n",
       "      <th></th>\n",
       "      <th>age</th>\n",
       "      <th>user_gender</th>\n",
       "      <th>user_birthdate</th>\n",
       "      <th>user_residence</th>\n",
       "      <th>ride_date</th>\n",
       "      <th>time_start</th>\n",
       "      <th>time_end</th>\n",
       "      <th>station_start</th>\n",
       "      <th>station_end</th>\n",
       "      <th>ride_duration</th>\n",
       "      <th>ride_late</th>\n",
       "    </tr>\n",
       "  </thead>\n",
       "  <tbody>\n",
       "    <tr>\n",
       "      <th>25214</th>\n",
       "      <td>-1</td>\n",
       "      <td>M</td>\n",
       "      <td>2021-03-30</td>\n",
       "      <td>NaN</td>\n",
       "      <td>2018-02-01</td>\n",
       "      <td>11:58:10</td>\n",
       "      <td>12:03:48</td>\n",
       "      <td>6 - Rodoviária</td>\n",
       "      <td>20 - SAS</td>\n",
       "      <td>5.633333</td>\n",
       "      <td>0.0</td>\n",
       "    </tr>\n",
       "    <tr>\n",
       "      <th>25218</th>\n",
       "      <td>-1</td>\n",
       "      <td>M</td>\n",
       "      <td>2021-08-20</td>\n",
       "      <td>DF</td>\n",
       "      <td>2018-02-01</td>\n",
       "      <td>12:04:39</td>\n",
       "      <td>12:15:39</td>\n",
       "      <td>21 - EQS 202 / 203</td>\n",
       "      <td>34 - Shopping Mall</td>\n",
       "      <td>11.000000</td>\n",
       "      <td>0.0</td>\n",
       "    </tr>\n",
       "    <tr>\n",
       "      <th>25273</th>\n",
       "      <td>-1</td>\n",
       "      <td>F</td>\n",
       "      <td>2021-08-14</td>\n",
       "      <td>NaN</td>\n",
       "      <td>2018-02-01</td>\n",
       "      <td>13:02:59</td>\n",
       "      <td>13:18:30</td>\n",
       "      <td>2 - Praça Buriti</td>\n",
       "      <td>11 - Rodoviária 2</td>\n",
       "      <td>15.516667</td>\n",
       "      <td>0.0</td>\n",
       "    </tr>\n",
       "    <tr>\n",
       "      <th>25275</th>\n",
       "      <td>-1</td>\n",
       "      <td>M</td>\n",
       "      <td>2021-08-04</td>\n",
       "      <td>DF</td>\n",
       "      <td>2018-02-01</td>\n",
       "      <td>13:03:42</td>\n",
       "      <td>13:18:27</td>\n",
       "      <td>38 - SQN 205</td>\n",
       "      <td>41 - Instituto de Artes</td>\n",
       "      <td>14.750000</td>\n",
       "      <td>0.0</td>\n",
       "    </tr>\n",
       "    <tr>\n",
       "      <th>25276</th>\n",
       "      <td>-1</td>\n",
       "      <td>F</td>\n",
       "      <td>2021-08-04</td>\n",
       "      <td>DF</td>\n",
       "      <td>2018-02-01</td>\n",
       "      <td>13:03:49</td>\n",
       "      <td>13:18:32</td>\n",
       "      <td>2 - Praça Buriti</td>\n",
       "      <td>11 - Rodoviária 2</td>\n",
       "      <td>14.716667</td>\n",
       "      <td>0.0</td>\n",
       "    </tr>\n",
       "    <tr>\n",
       "      <th>...</th>\n",
       "      <td>...</td>\n",
       "      <td>...</td>\n",
       "      <td>...</td>\n",
       "      <td>...</td>\n",
       "      <td>...</td>\n",
       "      <td>...</td>\n",
       "      <td>...</td>\n",
       "      <td>...</td>\n",
       "      <td>...</td>\n",
       "      <td>...</td>\n",
       "      <td>...</td>\n",
       "    </tr>\n",
       "    <tr>\n",
       "      <th>43669</th>\n",
       "      <td>-1</td>\n",
       "      <td>F</td>\n",
       "      <td>2020-12-28</td>\n",
       "      <td>NaN</td>\n",
       "      <td>2018-02-28</td>\n",
       "      <td>08:19:56</td>\n",
       "      <td>08:29:20</td>\n",
       "      <td>35 - CLN 403</td>\n",
       "      <td>39 - CLN 406</td>\n",
       "      <td>9.400000</td>\n",
       "      <td>0.0</td>\n",
       "    </tr>\n",
       "    <tr>\n",
       "      <th>43843</th>\n",
       "      <td>-1</td>\n",
       "      <td>M</td>\n",
       "      <td>2021-01-28</td>\n",
       "      <td>NaN</td>\n",
       "      <td>2018-02-28</td>\n",
       "      <td>12:41:58</td>\n",
       "      <td>13:03:42</td>\n",
       "      <td>39 - CLN 406</td>\n",
       "      <td>23 - STF</td>\n",
       "      <td>21.733333</td>\n",
       "      <td>0.0</td>\n",
       "    </tr>\n",
       "    <tr>\n",
       "      <th>43916</th>\n",
       "      <td>-1</td>\n",
       "      <td>M</td>\n",
       "      <td>2021-11-05</td>\n",
       "      <td>NaN</td>\n",
       "      <td>2018-02-28</td>\n",
       "      <td>13:34:50</td>\n",
       "      <td>13:40:35</td>\n",
       "      <td>34 - Shopping Mall</td>\n",
       "      <td>32 - SQS 305</td>\n",
       "      <td>5.750000</td>\n",
       "      <td>0.0</td>\n",
       "    </tr>\n",
       "    <tr>\n",
       "      <th>44163</th>\n",
       "      <td>-6</td>\n",
       "      <td>M</td>\n",
       "      <td>2026-03-18</td>\n",
       "      <td>NaN</td>\n",
       "      <td>2018-02-28</td>\n",
       "      <td>17:39:02</td>\n",
       "      <td>18:31:05</td>\n",
       "      <td>15 - Brasil 21</td>\n",
       "      <td>15 - Brasil 21</td>\n",
       "      <td>52.050000</td>\n",
       "      <td>0.0</td>\n",
       "    </tr>\n",
       "    <tr>\n",
       "      <th>44259</th>\n",
       "      <td>-1</td>\n",
       "      <td>M</td>\n",
       "      <td>2021-01-28</td>\n",
       "      <td>NaN</td>\n",
       "      <td>2018-02-28</td>\n",
       "      <td>18:28:17</td>\n",
       "      <td>18:36:24</td>\n",
       "      <td>20 - SAS</td>\n",
       "      <td>23 - STF</td>\n",
       "      <td>8.116667</td>\n",
       "      <td>0.0</td>\n",
       "    </tr>\n",
       "  </tbody>\n",
       "</table>\n",
       "<p>220 rows × 11 columns</p>\n",
       "</div>"
      ],
      "text/plain": [
       "       age user_gender user_birthdate user_residence   ride_date time_start  \\\n",
       "25214   -1           M     2021-03-30            NaN  2018-02-01   11:58:10   \n",
       "25218   -1           M     2021-08-20             DF  2018-02-01   12:04:39   \n",
       "25273   -1           F     2021-08-14            NaN  2018-02-01   13:02:59   \n",
       "25275   -1           M     2021-08-04             DF  2018-02-01   13:03:42   \n",
       "25276   -1           F     2021-08-04             DF  2018-02-01   13:03:49   \n",
       "...    ...         ...            ...            ...         ...        ...   \n",
       "43669   -1           F     2020-12-28            NaN  2018-02-28   08:19:56   \n",
       "43843   -1           M     2021-01-28            NaN  2018-02-28   12:41:58   \n",
       "43916   -1           M     2021-11-05            NaN  2018-02-28   13:34:50   \n",
       "44163   -6           M     2026-03-18            NaN  2018-02-28   17:39:02   \n",
       "44259   -1           M     2021-01-28            NaN  2018-02-28   18:28:17   \n",
       "\n",
       "       time_end       station_start              station_end  ride_duration  \\\n",
       "25214  12:03:48      6 - Rodoviária                 20 - SAS       5.633333   \n",
       "25218  12:15:39  21 - EQS 202 / 203       34 - Shopping Mall      11.000000   \n",
       "25273  13:18:30    2 - Praça Buriti        11 - Rodoviária 2      15.516667   \n",
       "25275  13:18:27        38 - SQN 205  41 - Instituto de Artes      14.750000   \n",
       "25276  13:18:32    2 - Praça Buriti        11 - Rodoviária 2      14.716667   \n",
       "...         ...                 ...                      ...            ...   \n",
       "43669  08:29:20        35 - CLN 403             39 - CLN 406       9.400000   \n",
       "43843  13:03:42        39 - CLN 406                 23 - STF      21.733333   \n",
       "43916  13:40:35  34 - Shopping Mall             32 - SQS 305       5.750000   \n",
       "44163  18:31:05      15 - Brasil 21           15 - Brasil 21      52.050000   \n",
       "44259  18:36:24            20 - SAS                 23 - STF       8.116667   \n",
       "\n",
       "       ride_late  \n",
       "25214        0.0  \n",
       "25218        0.0  \n",
       "25273        0.0  \n",
       "25275        0.0  \n",
       "25276        0.0  \n",
       "...          ...  \n",
       "43669        0.0  \n",
       "43843        0.0  \n",
       "43916        0.0  \n",
       "44163        0.0  \n",
       "44259        0.0  \n",
       "\n",
       "[220 rows x 11 columns]"
      ]
     },
     "execution_count": 252,
     "metadata": {},
     "output_type": "execute_result"
    }
   ],
   "source": [
    "bike[bike['age'] < 0]"
   ]
  },
  {
   "cell_type": "code",
   "execution_count": 253,
   "metadata": {},
   "outputs": [],
   "source": [
    "# Removendo idades menores que 5.\n",
    "bike = bike[bike['age'] > 5].reset_index()"
   ]
  },
  {
   "cell_type": "code",
   "execution_count": 254,
   "metadata": {},
   "outputs": [
    {
     "data": {
      "text/html": [
       "<div>\n",
       "<style scoped>\n",
       "    .dataframe tbody tr th:only-of-type {\n",
       "        vertical-align: middle;\n",
       "    }\n",
       "\n",
       "    .dataframe tbody tr th {\n",
       "        vertical-align: top;\n",
       "    }\n",
       "\n",
       "    .dataframe thead th {\n",
       "        text-align: right;\n",
       "    }\n",
       "</style>\n",
       "<table border=\"1\" class=\"dataframe\">\n",
       "  <thead>\n",
       "    <tr style=\"text-align: right;\">\n",
       "      <th></th>\n",
       "      <th>age</th>\n",
       "      <th>user_gender</th>\n",
       "      <th>user_birthdate</th>\n",
       "      <th>user_residence</th>\n",
       "      <th>ride_date</th>\n",
       "      <th>time_start</th>\n",
       "      <th>time_end</th>\n",
       "      <th>station_start</th>\n",
       "      <th>station_end</th>\n",
       "      <th>ride_duration</th>\n",
       "      <th>ride_late</th>\n",
       "    </tr>\n",
       "  </thead>\n",
       "  <tbody>\n",
       "    <tr>\n",
       "      <th>0</th>\n",
       "      <td>48</td>\n",
       "      <td>M</td>\n",
       "      <td>1971-06-08</td>\n",
       "      <td>NaN</td>\n",
       "      <td>2018-01-01</td>\n",
       "      <td>06:05:18</td>\n",
       "      <td>06:21:33</td>\n",
       "      <td>11 - Rodoviária 2</td>\n",
       "      <td>41 - Instituto de Artes</td>\n",
       "      <td>16.250000</td>\n",
       "      <td>0.0</td>\n",
       "    </tr>\n",
       "    <tr>\n",
       "      <th>1</th>\n",
       "      <td>30</td>\n",
       "      <td>M</td>\n",
       "      <td>1989-02-11</td>\n",
       "      <td>DF</td>\n",
       "      <td>2018-01-01</td>\n",
       "      <td>06:27:01</td>\n",
       "      <td>06:32:17</td>\n",
       "      <td>26 - Ministério da Saude</td>\n",
       "      <td>28 - CNMP - Conselho Nacional do Ministério Pú...</td>\n",
       "      <td>5.266667</td>\n",
       "      <td>0.0</td>\n",
       "    </tr>\n",
       "    <tr>\n",
       "      <th>2</th>\n",
       "      <td>51</td>\n",
       "      <td>M</td>\n",
       "      <td>1968-07-19</td>\n",
       "      <td>NaN</td>\n",
       "      <td>2018-01-01</td>\n",
       "      <td>06:29:33</td>\n",
       "      <td>06:44:57</td>\n",
       "      <td>11 - Rodoviária 2</td>\n",
       "      <td>43 - Biblioteca Central</td>\n",
       "      <td>15.400000</td>\n",
       "      <td>0.0</td>\n",
       "    </tr>\n",
       "    <tr>\n",
       "      <th>3</th>\n",
       "      <td>27</td>\n",
       "      <td>M</td>\n",
       "      <td>1991-12-19</td>\n",
       "      <td>NaN</td>\n",
       "      <td>2018-01-01</td>\n",
       "      <td>06:53:53</td>\n",
       "      <td>06:59:45</td>\n",
       "      <td>10 - Ministério dos Transportes</td>\n",
       "      <td>6 - Rodoviária</td>\n",
       "      <td>5.866667</td>\n",
       "      <td>0.0</td>\n",
       "    </tr>\n",
       "    <tr>\n",
       "      <th>4</th>\n",
       "      <td>50</td>\n",
       "      <td>M</td>\n",
       "      <td>1969-03-03</td>\n",
       "      <td>DF</td>\n",
       "      <td>2018-01-01</td>\n",
       "      <td>06:58:56</td>\n",
       "      <td>17:40:04</td>\n",
       "      <td>15 - Brasil 21</td>\n",
       "      <td>11 - Rodoviária 2</td>\n",
       "      <td>641.133333</td>\n",
       "      <td>1.0</td>\n",
       "    </tr>\n",
       "  </tbody>\n",
       "</table>\n",
       "</div>"
      ],
      "text/plain": [
       "   age user_gender user_birthdate user_residence   ride_date time_start  \\\n",
       "0   48           M     1971-06-08            NaN  2018-01-01   06:05:18   \n",
       "1   30           M     1989-02-11             DF  2018-01-01   06:27:01   \n",
       "2   51           M     1968-07-19            NaN  2018-01-01   06:29:33   \n",
       "3   27           M     1991-12-19            NaN  2018-01-01   06:53:53   \n",
       "4   50           M     1969-03-03             DF  2018-01-01   06:58:56   \n",
       "\n",
       "   time_end                    station_start  \\\n",
       "0  06:21:33                11 - Rodoviária 2   \n",
       "1  06:32:17         26 - Ministério da Saude   \n",
       "2  06:44:57                11 - Rodoviária 2   \n",
       "3  06:59:45  10 - Ministério dos Transportes   \n",
       "4  17:40:04                   15 - Brasil 21   \n",
       "\n",
       "                                         station_end  ride_duration  ride_late  \n",
       "0                            41 - Instituto de Artes      16.250000        0.0  \n",
       "1  28 - CNMP - Conselho Nacional do Ministério Pú...       5.266667        0.0  \n",
       "2                            43 - Biblioteca Central      15.400000        0.0  \n",
       "3                                     6 - Rodoviária       5.866667        0.0  \n",
       "4                                  11 - Rodoviária 2     641.133333        1.0  "
      ]
     },
     "execution_count": 254,
     "metadata": {},
     "output_type": "execute_result"
    }
   ],
   "source": [
    "bike.drop(columns='index',axis=1, inplace=True)\n",
    "bike.head()"
   ]
  },
  {
   "cell_type": "code",
   "execution_count": 255,
   "metadata": {},
   "outputs": [
    {
     "data": {
      "text/html": [
       "<div>\n",
       "<style scoped>\n",
       "    .dataframe tbody tr th:only-of-type {\n",
       "        vertical-align: middle;\n",
       "    }\n",
       "\n",
       "    .dataframe tbody tr th {\n",
       "        vertical-align: top;\n",
       "    }\n",
       "\n",
       "    .dataframe thead th {\n",
       "        text-align: right;\n",
       "    }\n",
       "</style>\n",
       "<table border=\"1\" class=\"dataframe\">\n",
       "  <thead>\n",
       "    <tr style=\"text-align: right;\">\n",
       "      <th></th>\n",
       "      <th>age</th>\n",
       "      <th>ride_duration</th>\n",
       "      <th>ride_late</th>\n",
       "    </tr>\n",
       "  </thead>\n",
       "  <tbody>\n",
       "    <tr>\n",
       "      <th>count</th>\n",
       "      <td>280469.000000</td>\n",
       "      <td>208880.000000</td>\n",
       "      <td>208880.000000</td>\n",
       "    </tr>\n",
       "    <tr>\n",
       "      <th>mean</th>\n",
       "      <td>30.056106</td>\n",
       "      <td>29.926249</td>\n",
       "      <td>0.098727</td>\n",
       "    </tr>\n",
       "    <tr>\n",
       "      <th>std</th>\n",
       "      <td>9.920045</td>\n",
       "      <td>58.962466</td>\n",
       "      <td>0.298295</td>\n",
       "    </tr>\n",
       "    <tr>\n",
       "      <th>min</th>\n",
       "      <td>6.000000</td>\n",
       "      <td>3.000000</td>\n",
       "      <td>0.000000</td>\n",
       "    </tr>\n",
       "    <tr>\n",
       "      <th>25%</th>\n",
       "      <td>23.000000</td>\n",
       "      <td>8.083333</td>\n",
       "      <td>0.000000</td>\n",
       "    </tr>\n",
       "    <tr>\n",
       "      <th>50%</th>\n",
       "      <td>27.000000</td>\n",
       "      <td>14.200000</td>\n",
       "      <td>0.000000</td>\n",
       "    </tr>\n",
       "    <tr>\n",
       "      <th>75%</th>\n",
       "      <td>35.000000</td>\n",
       "      <td>33.733333</td>\n",
       "      <td>0.000000</td>\n",
       "    </tr>\n",
       "    <tr>\n",
       "      <th>max</th>\n",
       "      <td>91.000000</td>\n",
       "      <td>999.483333</td>\n",
       "      <td>1.000000</td>\n",
       "    </tr>\n",
       "  </tbody>\n",
       "</table>\n",
       "</div>"
      ],
      "text/plain": [
       "                 age  ride_duration      ride_late\n",
       "count  280469.000000  208880.000000  208880.000000\n",
       "mean       30.056106      29.926249       0.098727\n",
       "std         9.920045      58.962466       0.298295\n",
       "min         6.000000       3.000000       0.000000\n",
       "25%        23.000000       8.083333       0.000000\n",
       "50%        27.000000      14.200000       0.000000\n",
       "75%        35.000000      33.733333       0.000000\n",
       "max        91.000000     999.483333       1.000000"
      ]
     },
     "execution_count": 255,
     "metadata": {},
     "output_type": "execute_result"
    }
   ],
   "source": [
    "bike.describe()"
   ]
  },
  {
   "cell_type": "code",
   "execution_count": 256,
   "metadata": {},
   "outputs": [
    {
     "data": {
      "image/png": "[encoded data removed]",
      "text/plain": [
       "<Figure size 1296x432 with 1 Axes>"
      ]
     },
     "metadata": {
      "needs_background": "light"
     },
     "output_type": "display_data"
    }
   ],
   "source": [
    "fig = plt.figure(figsize=(18,6))\n",
    "sns.countplot(x='age', data=bike).set_title('Idade .vs. Usuários');"
   ]
  },
  {
   "cell_type": "code",
   "execution_count": 257,
   "metadata": {},
   "outputs": [],
   "source": [
    "bike['ride_date'] = bike['ride_date'].apply( lambda x: dt.strptime(x, '%Y-%m-%d'))"
   ]
  },
  {
   "cell_type": "code",
   "execution_count": 258,
   "metadata": {},
   "outputs": [],
   "source": [
    "bike['weekday'] = 0"
   ]
  },
  {
   "cell_type": "code",
   "execution_count": 259,
   "metadata": {},
   "outputs": [],
   "source": [
    "# Monday is 0 and Sunday is 6.\n",
    "bike['weekday'] = bike['ride_date'].apply( lambda x: x.weekday())"
   ]
  },
  {
   "cell_type": "code",
   "execution_count": 260,
   "metadata": {},
   "outputs": [],
   "source": [
    "bike['weekday'].replace({0:'Mon', 1:'Tue', 2:'Wed', 3:'Thu', 4:'Fri', 5:'Sat', 6:'Sun'}, inplace=True)"
   ]
  },
  {
   "cell_type": "code",
   "execution_count": 261,
   "metadata": {},
   "outputs": [
    {
     "data": {
      "image/png": "[encoded data removed]",
      "text/plain": [
       "<Figure size 432x288 with 1 Axes>"
      ]
     },
     "metadata": {
      "needs_background": "light"
     },
     "output_type": "display_data"
    }
   ],
   "source": [
    "sns.countplot(x='weekday', data=bike);"
   ]
  },
  {
   "cell_type": "code",
   "execution_count": 262,
   "metadata": {},
   "outputs": [],
   "source": [
    "bike['month'] = 0"
   ]
  },
  {
   "cell_type": "code",
   "execution_count": 263,
   "metadata": {},
   "outputs": [],
   "source": [
    "bike['month'] = bike['ride_date'].apply( lambda x: int((x.month)))"
   ]
  },
  {
   "cell_type": "code",
   "execution_count": null,
   "metadata": {},
   "outputs": [],
   "source": [
    "bike.head(2)"
   ]
  },
  {
   "cell_type": "code",
   "execution_count": 264,
   "metadata": {},
   "outputs": [],
   "source": [
    "bike_per_month = bike.groupby('month').count().reset_index()"
   ]
  },
  {
   "cell_type": "code",
   "execution_count": 265,
   "metadata": {},
   "outputs": [],
   "source": [
    "###bike_per_month.replace()\n",
    "bike_per_month['month'].replace({1:'Jan', 2:'Feb', 3:'Mar', 4:'Apr', 5:'May', 6:'Jun', 7:'Jul', 8:'Aug'}, inplace=True)"
   ]
  },
  {
   "cell_type": "code",
   "execution_count": 266,
   "metadata": {},
   "outputs": [
    {
     "data": {
      "text/html": [
       "<div>\n",
       "<style scoped>\n",
       "    .dataframe tbody tr th:only-of-type {\n",
       "        vertical-align: middle;\n",
       "    }\n",
       "\n",
       "    .dataframe tbody tr th {\n",
       "        vertical-align: top;\n",
       "    }\n",
       "\n",
       "    .dataframe thead th {\n",
       "        text-align: right;\n",
       "    }\n",
       "</style>\n",
       "<table border=\"1\" class=\"dataframe\">\n",
       "  <thead>\n",
       "    <tr style=\"text-align: right;\">\n",
       "      <th></th>\n",
       "      <th>month</th>\n",
       "      <th>age</th>\n",
       "      <th>user_gender</th>\n",
       "      <th>user_birthdate</th>\n",
       "      <th>user_residence</th>\n",
       "      <th>ride_date</th>\n",
       "      <th>time_start</th>\n",
       "      <th>time_end</th>\n",
       "      <th>station_start</th>\n",
       "      <th>station_end</th>\n",
       "      <th>ride_duration</th>\n",
       "      <th>ride_late</th>\n",
       "      <th>weekday</th>\n",
       "    </tr>\n",
       "  </thead>\n",
       "  <tbody>\n",
       "    <tr>\n",
       "      <th>0</th>\n",
       "      <td>Jan</td>\n",
       "      <td>24385</td>\n",
       "      <td>24382</td>\n",
       "      <td>24385</td>\n",
       "      <td>11229</td>\n",
       "      <td>24385</td>\n",
       "      <td>24385</td>\n",
       "      <td>24385</td>\n",
       "      <td>24385</td>\n",
       "      <td>24385</td>\n",
       "      <td>24367</td>\n",
       "      <td>24367</td>\n",
       "      <td>24385</td>\n",
       "    </tr>\n",
       "    <tr>\n",
       "      <th>1</th>\n",
       "      <td>Feb</td>\n",
       "      <td>18430</td>\n",
       "      <td>18423</td>\n",
       "      <td>18430</td>\n",
       "      <td>8303</td>\n",
       "      <td>18430</td>\n",
       "      <td>18430</td>\n",
       "      <td>18430</td>\n",
       "      <td>18430</td>\n",
       "      <td>18430</td>\n",
       "      <td>18407</td>\n",
       "      <td>18407</td>\n",
       "      <td>18430</td>\n",
       "    </tr>\n",
       "    <tr>\n",
       "      <th>2</th>\n",
       "      <td>Mar</td>\n",
       "      <td>29057</td>\n",
       "      <td>29022</td>\n",
       "      <td>29057</td>\n",
       "      <td>4809</td>\n",
       "      <td>29057</td>\n",
       "      <td>29057</td>\n",
       "      <td>29057</td>\n",
       "      <td>29057</td>\n",
       "      <td>29057</td>\n",
       "      <td>137</td>\n",
       "      <td>137</td>\n",
       "      <td>29057</td>\n",
       "    </tr>\n",
       "    <tr>\n",
       "      <th>3</th>\n",
       "      <td>Apr</td>\n",
       "      <td>34170</td>\n",
       "      <td>34131</td>\n",
       "      <td>34170</td>\n",
       "      <td>13382</td>\n",
       "      <td>34170</td>\n",
       "      <td>34170</td>\n",
       "      <td>34170</td>\n",
       "      <td>34170</td>\n",
       "      <td>34170</td>\n",
       "      <td>34131</td>\n",
       "      <td>34131</td>\n",
       "      <td>34170</td>\n",
       "    </tr>\n",
       "    <tr>\n",
       "      <th>4</th>\n",
       "      <td>May</td>\n",
       "      <td>43123</td>\n",
       "      <td>43040</td>\n",
       "      <td>43123</td>\n",
       "      <td>16044</td>\n",
       "      <td>43123</td>\n",
       "      <td>43123</td>\n",
       "      <td>43123</td>\n",
       "      <td>43123</td>\n",
       "      <td>43123</td>\n",
       "      <td>43076</td>\n",
       "      <td>43076</td>\n",
       "      <td>43123</td>\n",
       "    </tr>\n",
       "    <tr>\n",
       "      <th>5</th>\n",
       "      <td>Jun</td>\n",
       "      <td>42431</td>\n",
       "      <td>42366</td>\n",
       "      <td>42431</td>\n",
       "      <td>16136</td>\n",
       "      <td>42431</td>\n",
       "      <td>42431</td>\n",
       "      <td>0</td>\n",
       "      <td>42431</td>\n",
       "      <td>42431</td>\n",
       "      <td>0</td>\n",
       "      <td>0</td>\n",
       "      <td>42431</td>\n",
       "    </tr>\n",
       "    <tr>\n",
       "      <th>6</th>\n",
       "      <td>Jul</td>\n",
       "      <td>43140</td>\n",
       "      <td>43071</td>\n",
       "      <td>43140</td>\n",
       "      <td>16039</td>\n",
       "      <td>43140</td>\n",
       "      <td>43140</td>\n",
       "      <td>43140</td>\n",
       "      <td>43140</td>\n",
       "      <td>43140</td>\n",
       "      <td>43083</td>\n",
       "      <td>43083</td>\n",
       "      <td>43140</td>\n",
       "    </tr>\n",
       "    <tr>\n",
       "      <th>7</th>\n",
       "      <td>Aug</td>\n",
       "      <td>45733</td>\n",
       "      <td>45693</td>\n",
       "      <td>45733</td>\n",
       "      <td>16248</td>\n",
       "      <td>45733</td>\n",
       "      <td>45733</td>\n",
       "      <td>45733</td>\n",
       "      <td>45733</td>\n",
       "      <td>45733</td>\n",
       "      <td>45679</td>\n",
       "      <td>45679</td>\n",
       "      <td>45733</td>\n",
       "    </tr>\n",
       "  </tbody>\n",
       "</table>\n",
       "</div>"
      ],
      "text/plain": [
       "  month    age  user_gender  user_birthdate  user_residence  ride_date  \\\n",
       "0   Jan  24385        24382           24385           11229      24385   \n",
       "1   Feb  18430        18423           18430            8303      18430   \n",
       "2   Mar  29057        29022           29057            4809      29057   \n",
       "3   Apr  34170        34131           34170           13382      34170   \n",
       "4   May  43123        43040           43123           16044      43123   \n",
       "5   Jun  42431        42366           42431           16136      42431   \n",
       "6   Jul  43140        43071           43140           16039      43140   \n",
       "7   Aug  45733        45693           45733           16248      45733   \n",
       "\n",
       "   time_start  time_end  station_start  station_end  ride_duration  ride_late  \\\n",
       "0       24385     24385          24385        24385          24367      24367   \n",
       "1       18430     18430          18430        18430          18407      18407   \n",
       "2       29057     29057          29057        29057            137        137   \n",
       "3       34170     34170          34170        34170          34131      34131   \n",
       "4       43123     43123          43123        43123          43076      43076   \n",
       "5       42431         0          42431        42431              0          0   \n",
       "6       43140     43140          43140        43140          43083      43083   \n",
       "7       45733     45733          45733        45733          45679      45679   \n",
       "\n",
       "   weekday  \n",
       "0    24385  \n",
       "1    18430  \n",
       "2    29057  \n",
       "3    34170  \n",
       "4    43123  \n",
       "5    42431  \n",
       "6    43140  \n",
       "7    45733  "
      ]
     },
     "execution_count": 266,
     "metadata": {},
     "output_type": "execute_result"
    }
   ],
   "source": [
    "bike_per_month"
   ]
  },
  {
   "cell_type": "code",
   "execution_count": 267,
   "metadata": {},
   "outputs": [
    {
     "data": {
      "image/png": "[encoded data removed]",
      "text/plain": [
       "<Figure size 432x288 with 1 Axes>"
      ]
     },
     "metadata": {
      "needs_background": "light"
     },
     "output_type": "display_data"
    }
   ],
   "source": [
    "sns.barplot(x='month', y='ride_date', data=bike_per_month);"
   ]
  },
  {
   "cell_type": "code",
   "execution_count": 393,
   "metadata": {},
   "outputs": [
    {
     "data": {
      "text/plain": [
       "count     102190\n",
       "unique       245\n",
       "top           DF\n",
       "freq       84350\n",
       "Name: user_residence, dtype: object"
      ]
     },
     "execution_count": 393,
     "metadata": {},
     "output_type": "execute_result"
    }
   ],
   "source": [
    "# 178279 Nulos na coluna\n",
    "bike['user_residence'].describe()"
   ]
  },
  {
   "cell_type": "code",
   "execution_count": 269,
   "metadata": {},
   "outputs": [
    {
     "data": {
      "text/plain": [
       "71589"
      ]
     },
     "execution_count": 269,
     "metadata": {},
     "output_type": "execute_result"
    }
   ],
   "source": [
    "bike['ride_duration'].isnull().sum()"
   ]
  },
  {
   "cell_type": "code",
   "execution_count": 270,
   "metadata": {},
   "outputs": [
    {
     "data": {
      "text/plain": [
       "208880"
      ]
     },
     "execution_count": 270,
     "metadata": {},
     "output_type": "execute_result"
    }
   ],
   "source": [
    "ride_duration = bike['ride_duration'].dropna()\n",
    "ride_duration.count()"
   ]
  },
  {
   "cell_type": "code",
   "execution_count": 271,
   "metadata": {},
   "outputs": [
    {
     "data": {
      "image/png": "[encoded data removed]",
      "text/plain": [
       "<Figure size 432x288 with 1 Axes>"
      ]
     },
     "metadata": {
      "needs_background": "light"
     },
     "output_type": "display_data"
    }
   ],
   "source": [
    "fig, ax = plt.subplots()\n",
    "sns.distplot(ride_duration, kde=False, bins=100, hist=True)\n",
    "ax.set_xlim(0,180);"
   ]
  },
  {
   "cell_type": "code",
   "execution_count": 398,
   "metadata": {},
   "outputs": [
    {
     "data": {
      "text/html": [
       "<div>\n",
       "<style scoped>\n",
       "    .dataframe tbody tr th:only-of-type {\n",
       "        vertical-align: middle;\n",
       "    }\n",
       "\n",
       "    .dataframe tbody tr th {\n",
       "        vertical-align: top;\n",
       "    }\n",
       "\n",
       "    .dataframe thead th {\n",
       "        text-align: right;\n",
       "    }\n",
       "</style>\n",
       "<table border=\"1\" class=\"dataframe\">\n",
       "  <thead>\n",
       "    <tr style=\"text-align: right;\">\n",
       "      <th></th>\n",
       "      <th>age</th>\n",
       "      <th>user_gender</th>\n",
       "      <th>user_birthdate</th>\n",
       "      <th>user_residence</th>\n",
       "      <th>ride_date</th>\n",
       "      <th>time_start</th>\n",
       "      <th>time_end</th>\n",
       "      <th>station_start</th>\n",
       "      <th>station_end</th>\n",
       "      <th>ride_duration</th>\n",
       "      <th>ride_late</th>\n",
       "      <th>weekday</th>\n",
       "      <th>month</th>\n",
       "    </tr>\n",
       "  </thead>\n",
       "  <tbody>\n",
       "    <tr>\n",
       "      <th>0</th>\n",
       "      <td>48</td>\n",
       "      <td>M</td>\n",
       "      <td>1971-06-08</td>\n",
       "      <td>NaN</td>\n",
       "      <td>2018-01-01</td>\n",
       "      <td>06:05:18</td>\n",
       "      <td>06:21:33</td>\n",
       "      <td>11 - Rodoviária 2</td>\n",
       "      <td>41 - Instituto de Artes</td>\n",
       "      <td>16.250000</td>\n",
       "      <td>0.0</td>\n",
       "      <td>Mon</td>\n",
       "      <td>1</td>\n",
       "    </tr>\n",
       "    <tr>\n",
       "      <th>2</th>\n",
       "      <td>51</td>\n",
       "      <td>M</td>\n",
       "      <td>1968-07-19</td>\n",
       "      <td>NaN</td>\n",
       "      <td>2018-01-01</td>\n",
       "      <td>06:29:33</td>\n",
       "      <td>06:44:57</td>\n",
       "      <td>11 - Rodoviária 2</td>\n",
       "      <td>43 - Biblioteca Central</td>\n",
       "      <td>15.400000</td>\n",
       "      <td>0.0</td>\n",
       "      <td>Mon</td>\n",
       "      <td>1</td>\n",
       "    </tr>\n",
       "    <tr>\n",
       "      <th>4</th>\n",
       "      <td>50</td>\n",
       "      <td>M</td>\n",
       "      <td>1969-03-03</td>\n",
       "      <td>DF</td>\n",
       "      <td>2018-01-01</td>\n",
       "      <td>06:58:56</td>\n",
       "      <td>17:40:04</td>\n",
       "      <td>15 - Brasil 21</td>\n",
       "      <td>11 - Rodoviária 2</td>\n",
       "      <td>641.133333</td>\n",
       "      <td>1.0</td>\n",
       "      <td>Mon</td>\n",
       "      <td>1</td>\n",
       "    </tr>\n",
       "    <tr>\n",
       "      <th>6</th>\n",
       "      <td>48</td>\n",
       "      <td>M</td>\n",
       "      <td>1971-02-21</td>\n",
       "      <td>NaN</td>\n",
       "      <td>2018-01-01</td>\n",
       "      <td>07:02:37</td>\n",
       "      <td>07:22:27</td>\n",
       "      <td>30 - TSE</td>\n",
       "      <td>11 - Rodoviária 2</td>\n",
       "      <td>19.833333</td>\n",
       "      <td>0.0</td>\n",
       "      <td>Mon</td>\n",
       "      <td>1</td>\n",
       "    </tr>\n",
       "    <tr>\n",
       "      <th>9</th>\n",
       "      <td>49</td>\n",
       "      <td>M</td>\n",
       "      <td>1970-06-22</td>\n",
       "      <td>NaN</td>\n",
       "      <td>2018-01-01</td>\n",
       "      <td>07:25:21</td>\n",
       "      <td>07:43:25</td>\n",
       "      <td>4 - Torre de TV</td>\n",
       "      <td>4 - Torre de TV</td>\n",
       "      <td>18.066667</td>\n",
       "      <td>0.0</td>\n",
       "      <td>Mon</td>\n",
       "      <td>1</td>\n",
       "    </tr>\n",
       "    <tr>\n",
       "      <th>...</th>\n",
       "      <td>...</td>\n",
       "      <td>...</td>\n",
       "      <td>...</td>\n",
       "      <td>...</td>\n",
       "      <td>...</td>\n",
       "      <td>...</td>\n",
       "      <td>...</td>\n",
       "      <td>...</td>\n",
       "      <td>...</td>\n",
       "      <td>...</td>\n",
       "      <td>...</td>\n",
       "      <td>...</td>\n",
       "      <td>...</td>\n",
       "    </tr>\n",
       "    <tr>\n",
       "      <th>280457</th>\n",
       "      <td>59</td>\n",
       "      <td>F</td>\n",
       "      <td>1960-05-10</td>\n",
       "      <td>NaN</td>\n",
       "      <td>2018-08-31</td>\n",
       "      <td>22:21:46</td>\n",
       "      <td>22:53:24</td>\n",
       "      <td>47 - EQN 410/411</td>\n",
       "      <td>6 - Rodoviária</td>\n",
       "      <td>31.633333</td>\n",
       "      <td>0.0</td>\n",
       "      <td>Fri</td>\n",
       "      <td>8</td>\n",
       "    </tr>\n",
       "    <tr>\n",
       "      <th>280458</th>\n",
       "      <td>22</td>\n",
       "      <td>M</td>\n",
       "      <td>1997-08-04</td>\n",
       "      <td>NaN</td>\n",
       "      <td>2018-08-31</td>\n",
       "      <td>22:21:54</td>\n",
       "      <td>07:51:29</td>\n",
       "      <td>1 - Memorial JK</td>\n",
       "      <td>1 - Memorial JK</td>\n",
       "      <td>569.583333</td>\n",
       "      <td>1.0</td>\n",
       "      <td>Fri</td>\n",
       "      <td>8</td>\n",
       "    </tr>\n",
       "    <tr>\n",
       "      <th>280463</th>\n",
       "      <td>24</td>\n",
       "      <td>M</td>\n",
       "      <td>1995-05-23</td>\n",
       "      <td>NaN</td>\n",
       "      <td>2018-08-31</td>\n",
       "      <td>22:59:20</td>\n",
       "      <td>23:19:30</td>\n",
       "      <td>44 - ICC Sul</td>\n",
       "      <td>6 - Rodoviária</td>\n",
       "      <td>20.166667</td>\n",
       "      <td>0.0</td>\n",
       "      <td>Fri</td>\n",
       "      <td>8</td>\n",
       "    </tr>\n",
       "    <tr>\n",
       "      <th>280464</th>\n",
       "      <td>25</td>\n",
       "      <td>M</td>\n",
       "      <td>1994-01-16</td>\n",
       "      <td>DF</td>\n",
       "      <td>2018-08-31</td>\n",
       "      <td>23:11:42</td>\n",
       "      <td>23:40:20</td>\n",
       "      <td>47 - EQN 410/411</td>\n",
       "      <td>47 - EQN 410/411</td>\n",
       "      <td>28.633333</td>\n",
       "      <td>0.0</td>\n",
       "      <td>Fri</td>\n",
       "      <td>8</td>\n",
       "    </tr>\n",
       "    <tr>\n",
       "      <th>280465</th>\n",
       "      <td>29</td>\n",
       "      <td>M</td>\n",
       "      <td>1990-04-15</td>\n",
       "      <td>NaN</td>\n",
       "      <td>2018-08-31</td>\n",
       "      <td>23:12:02</td>\n",
       "      <td>23:40:10</td>\n",
       "      <td>47 - EQN 410/411</td>\n",
       "      <td>47 - EQN 410/411</td>\n",
       "      <td>28.133333</td>\n",
       "      <td>0.0</td>\n",
       "      <td>Fri</td>\n",
       "      <td>8</td>\n",
       "    </tr>\n",
       "  </tbody>\n",
       "</table>\n",
       "<p>100353 rows × 13 columns</p>\n",
       "</div>"
      ],
      "text/plain": [
       "        age user_gender user_birthdate user_residence  ride_date time_start  \\\n",
       "0        48           M     1971-06-08            NaN 2018-01-01   06:05:18   \n",
       "2        51           M     1968-07-19            NaN 2018-01-01   06:29:33   \n",
       "4        50           M     1969-03-03             DF 2018-01-01   06:58:56   \n",
       "6        48           M     1971-02-21            NaN 2018-01-01   07:02:37   \n",
       "9        49           M     1970-06-22            NaN 2018-01-01   07:25:21   \n",
       "...     ...         ...            ...            ...        ...        ...   \n",
       "280457   59           F     1960-05-10            NaN 2018-08-31   22:21:46   \n",
       "280458   22           M     1997-08-04            NaN 2018-08-31   22:21:54   \n",
       "280463   24           M     1995-05-23            NaN 2018-08-31   22:59:20   \n",
       "280464   25           M     1994-01-16             DF 2018-08-31   23:11:42   \n",
       "280465   29           M     1990-04-15            NaN 2018-08-31   23:12:02   \n",
       "\n",
       "        time_end      station_start              station_end  ride_duration  \\\n",
       "0       06:21:33  11 - Rodoviária 2  41 - Instituto de Artes      16.250000   \n",
       "2       06:44:57  11 - Rodoviária 2  43 - Biblioteca Central      15.400000   \n",
       "4       17:40:04     15 - Brasil 21        11 - Rodoviária 2     641.133333   \n",
       "6       07:22:27           30 - TSE        11 - Rodoviária 2      19.833333   \n",
       "9       07:43:25    4 - Torre de TV          4 - Torre de TV      18.066667   \n",
       "...          ...                ...                      ...            ...   \n",
       "280457  22:53:24   47 - EQN 410/411           6 - Rodoviária      31.633333   \n",
       "280458  07:51:29    1 - Memorial JK          1 - Memorial JK     569.583333   \n",
       "280463  23:19:30       44 - ICC Sul           6 - Rodoviária      20.166667   \n",
       "280464  23:40:20   47 - EQN 410/411         47 - EQN 410/411      28.633333   \n",
       "280465  23:40:10   47 - EQN 410/411         47 - EQN 410/411      28.133333   \n",
       "\n",
       "        ride_late weekday  month  \n",
       "0             0.0     Mon      1  \n",
       "2             0.0     Mon      1  \n",
       "4             1.0     Mon      1  \n",
       "6             0.0     Mon      1  \n",
       "9             0.0     Mon      1  \n",
       "...           ...     ...    ...  \n",
       "280457        0.0     Fri      8  \n",
       "280458        1.0     Fri      8  \n",
       "280463        0.0     Fri      8  \n",
       "280464        0.0     Fri      8  \n",
       "280465        0.0     Fri      8  \n",
       "\n",
       "[100353 rows x 13 columns]"
      ]
     },
     "execution_count": 398,
     "metadata": {},
     "output_type": "execute_result"
    }
   ],
   "source": [
    "bike[bike['ride_duration'] > 15]"
   ]
  },
  {
   "cell_type": "code",
   "execution_count": 353,
   "metadata": {},
   "outputs": [
    {
     "data": {
      "image/png": "[encoded data removed]",
      "text/plain": [
       "<Figure size 432x288 with 1 Axes>"
      ]
     },
     "metadata": {
      "needs_background": "light"
     },
     "output_type": "display_data"
    }
   ],
   "source": [
    "station_start = bike.groupby('station_start').count()\n",
    "station_start.reset_index(inplace=True)\n",
    "station_start = station_start.sort_values(by='age', ascending=False).head(3).copy()\n",
    "station_start.rename(columns={'age':'numbers'}, inplace=True)\n",
    "sns.barplot(x='station_start', y = 'numbers', data=station_start);"
   ]
  },
  {
   "cell_type": "code",
   "execution_count": 431,
   "metadata": {},
   "outputs": [
    {
     "data": {
      "image/png": "[encoded data removed]",
      "text/plain": [
       "<Figure size 432x288 with 1 Axes>"
      ]
     },
     "metadata": {},
     "output_type": "display_data"
    }
   ],
   "source": [
    "station_end = bike.groupby('station_end').count()\n",
    "station_end.reset_index(inplace=True)\n",
    "station_end = station_end.sort_values(by='age', ascending=False).head(3).copy()\n",
    "station_end.rename(columns={'age':'numbers'}, inplace=True)\n",
    "sns.barplot(x='station_end', y = 'numbers', data=station_end)\n",
    "sns.set(font_scale=1)"
   ]
  },
  {
   "cell_type": "code",
   "execution_count": 415,
   "metadata": {},
   "outputs": [
    {
     "data": {
      "image/png": "[encoded data removed]",
      "text/plain": [
       "<Figure size 2160x432 with 2 Axes>"
      ]
     },
     "metadata": {},
     "output_type": "display_data"
    }
   ],
   "source": [
    "fig, ax = plt.subplots(nrows=1,ncols=2, figsize=(30,6))\n",
    "clrs1 = ['red', 'green', 'purple']\n",
    "clrs2 = ['red', 'purple', 'green']\n",
    "\n",
    "sns.barplot(x='station_start', y = 'numbers', data=station_start, ax= ax[0], palette=clrs1)\n",
    "sns.barplot(x='station_end', y = 'numbers', data=station_end, ax= ax[1], palette=clrs2)\n",
    "sns.set(font_scale=3)"
   ]
  },
  {
   "cell_type": "code",
   "execution_count": 411,
   "metadata": {},
   "outputs": [],
   "source": [
    "#------------ Saindo do Instituto de Artes"
   ]
  },
  {
   "cell_type": "code",
   "execution_count": 357,
   "metadata": {},
   "outputs": [
    {
     "data": {
      "text/html": [
       "<div>\n",
       "<style scoped>\n",
       "    .dataframe tbody tr th:only-of-type {\n",
       "        vertical-align: middle;\n",
       "    }\n",
       "\n",
       "    .dataframe tbody tr th {\n",
       "        vertical-align: top;\n",
       "    }\n",
       "\n",
       "    .dataframe thead th {\n",
       "        text-align: right;\n",
       "    }\n",
       "</style>\n",
       "<table border=\"1\" class=\"dataframe\">\n",
       "  <thead>\n",
       "    <tr style=\"text-align: right;\">\n",
       "      <th></th>\n",
       "      <th>age</th>\n",
       "      <th>user_gender</th>\n",
       "      <th>user_birthdate</th>\n",
       "      <th>user_residence</th>\n",
       "      <th>ride_date</th>\n",
       "      <th>time_start</th>\n",
       "      <th>time_end</th>\n",
       "      <th>station_start</th>\n",
       "      <th>station_end</th>\n",
       "      <th>ride_duration</th>\n",
       "      <th>ride_late</th>\n",
       "      <th>weekday</th>\n",
       "      <th>month</th>\n",
       "    </tr>\n",
       "  </thead>\n",
       "  <tbody>\n",
       "    <tr>\n",
       "      <th>0</th>\n",
       "      <td>48</td>\n",
       "      <td>M</td>\n",
       "      <td>1971-06-08</td>\n",
       "      <td>NaN</td>\n",
       "      <td>2018-01-01</td>\n",
       "      <td>06:05:18</td>\n",
       "      <td>06:21:33</td>\n",
       "      <td>11 - Rodoviária 2</td>\n",
       "      <td>41 - Instituto de Artes</td>\n",
       "      <td>16.250000</td>\n",
       "      <td>0.0</td>\n",
       "      <td>Mon</td>\n",
       "      <td>1</td>\n",
       "    </tr>\n",
       "    <tr>\n",
       "      <th>1</th>\n",
       "      <td>30</td>\n",
       "      <td>M</td>\n",
       "      <td>1989-02-11</td>\n",
       "      <td>DF</td>\n",
       "      <td>2018-01-01</td>\n",
       "      <td>06:27:01</td>\n",
       "      <td>06:32:17</td>\n",
       "      <td>26 - Ministério da Saude</td>\n",
       "      <td>28 - CNMP - Conselho Nacional do Ministério Pú...</td>\n",
       "      <td>5.266667</td>\n",
       "      <td>0.0</td>\n",
       "      <td>Mon</td>\n",
       "      <td>1</td>\n",
       "    </tr>\n",
       "  </tbody>\n",
       "</table>\n",
       "</div>"
      ],
      "text/plain": [
       "   age user_gender user_birthdate user_residence  ride_date time_start  \\\n",
       "0   48           M     1971-06-08            NaN 2018-01-01   06:05:18   \n",
       "1   30           M     1989-02-11             DF 2018-01-01   06:27:01   \n",
       "\n",
       "   time_end             station_start  \\\n",
       "0  06:21:33         11 - Rodoviária 2   \n",
       "1  06:32:17  26 - Ministério da Saude   \n",
       "\n",
       "                                         station_end  ride_duration  \\\n",
       "0                            41 - Instituto de Artes      16.250000   \n",
       "1  28 - CNMP - Conselho Nacional do Ministério Pú...       5.266667   \n",
       "\n",
       "   ride_late weekday  month  \n",
       "0        0.0     Mon      1  \n",
       "1        0.0     Mon      1  "
      ]
     },
     "execution_count": 357,
     "metadata": {},
     "output_type": "execute_result"
    }
   ],
   "source": [
    "bike.head(2)"
   ]
  },
  {
   "cell_type": "code",
   "execution_count": 367,
   "metadata": {},
   "outputs": [],
   "source": [
    "bike_artes = bike[bike['station_start'] == '41 - Instituto de Artes']"
   ]
  },
  {
   "cell_type": "code",
   "execution_count": 421,
   "metadata": {},
   "outputs": [
    {
     "data": {
      "text/html": [
       "<div>\n",
       "<style scoped>\n",
       "    .dataframe tbody tr th:only-of-type {\n",
       "        vertical-align: middle;\n",
       "    }\n",
       "\n",
       "    .dataframe tbody tr th {\n",
       "        vertical-align: top;\n",
       "    }\n",
       "\n",
       "    .dataframe thead th {\n",
       "        text-align: right;\n",
       "    }\n",
       "</style>\n",
       "<table border=\"1\" class=\"dataframe\">\n",
       "  <thead>\n",
       "    <tr style=\"text-align: right;\">\n",
       "      <th></th>\n",
       "      <th>station_end</th>\n",
       "      <th>age</th>\n",
       "      <th>user_gender</th>\n",
       "      <th>user_birthdate</th>\n",
       "      <th>user_residence</th>\n",
       "      <th>ride_date</th>\n",
       "      <th>time_start</th>\n",
       "      <th>time_end</th>\n",
       "      <th>station_start</th>\n",
       "      <th>ride_duration</th>\n",
       "      <th>ride_late</th>\n",
       "      <th>weekday</th>\n",
       "      <th>month</th>\n",
       "    </tr>\n",
       "  </thead>\n",
       "  <tbody>\n",
       "    <tr>\n",
       "      <th>0</th>\n",
       "      <td>45 - Centro Olímpico</td>\n",
       "      <td>5273</td>\n",
       "      <td>5228</td>\n",
       "      <td>5273</td>\n",
       "      <td>1179</td>\n",
       "      <td>5273</td>\n",
       "      <td>5273</td>\n",
       "      <td>4585</td>\n",
       "      <td>5273</td>\n",
       "      <td>3921</td>\n",
       "      <td>3921</td>\n",
       "      <td>5273</td>\n",
       "      <td>5273</td>\n",
       "    </tr>\n",
       "    <tr>\n",
       "      <th>1</th>\n",
       "      <td>39 - CLN 406</td>\n",
       "      <td>2075</td>\n",
       "      <td>2073</td>\n",
       "      <td>2075</td>\n",
       "      <td>617</td>\n",
       "      <td>2075</td>\n",
       "      <td>2075</td>\n",
       "      <td>1791</td>\n",
       "      <td>2075</td>\n",
       "      <td>1440</td>\n",
       "      <td>1440</td>\n",
       "      <td>2075</td>\n",
       "      <td>2075</td>\n",
       "    </tr>\n",
       "    <tr>\n",
       "      <th>2</th>\n",
       "      <td>42 - PAT</td>\n",
       "      <td>1263</td>\n",
       "      <td>1260</td>\n",
       "      <td>1263</td>\n",
       "      <td>341</td>\n",
       "      <td>1263</td>\n",
       "      <td>1263</td>\n",
       "      <td>1097</td>\n",
       "      <td>1263</td>\n",
       "      <td>781</td>\n",
       "      <td>781</td>\n",
       "      <td>1263</td>\n",
       "      <td>1263</td>\n",
       "    </tr>\n",
       "  </tbody>\n",
       "</table>\n",
       "</div>"
      ],
      "text/plain": [
       "            station_end   age  user_gender  user_birthdate  user_residence  \\\n",
       "0  45 - Centro Olímpico  5273         5228            5273            1179   \n",
       "1          39 - CLN 406  2075         2073            2075             617   \n",
       "2              42 - PAT  1263         1260            1263             341   \n",
       "\n",
       "   ride_date  time_start  time_end  station_start  ride_duration  ride_late  \\\n",
       "0       5273        5273      4585           5273           3921       3921   \n",
       "1       2075        2075      1791           2075           1440       1440   \n",
       "2       1263        1263      1097           1263            781        781   \n",
       "\n",
       "   weekday  month  \n",
       "0     5273   5273  \n",
       "1     2075   2075  \n",
       "2     1263   1263  "
      ]
     },
     "execution_count": 421,
     "metadata": {},
     "output_type": "execute_result"
    }
   ],
   "source": [
    "bike_artes3 = bike_artes.groupby('station_end').count().sort_values(by='age', ascending=False).head(3)\n",
    "bike_artes3.reset_index(inplace=True)\n",
    "bike_artes3.head()"
   ]
  },
  {
   "cell_type": "code",
   "execution_count": 427,
   "metadata": {},
   "outputs": [
    {
     "data": {
      "image/png": "[encoded data removed]",
      "text/plain": [
       "<Figure size 2160x432 with 1 Axes>"
      ]
     },
     "metadata": {},
     "output_type": "display_data"
    }
   ],
   "source": [
    "fig = plt.figure(figsize=(30,6))\n",
    "clr1 = ['red', 'green', 'purple']\n",
    "clr2 = ['red', 'purple', 'green']\n",
    "\n",
    "sns.barplot(x='station_end', y = 'age', data=bike_artes3, palette=clrs1)\n",
    "sns.set(font_scale=3)"
   ]
  },
  {
   "cell_type": "code",
   "execution_count": 370,
   "metadata": {},
   "outputs": [],
   "source": [
    "bike_olimpic = bike[bike['station_start'] == '45 - Centro Olímpico']"
   ]
  },
  {
   "cell_type": "code",
   "execution_count": 435,
   "metadata": {},
   "outputs": [],
   "source": [
    "bike_olimpic3 = bike_olimpic.groupby('station_end').count().sort_values(by='age', ascending=False).head(3)"
   ]
  },
  {
   "cell_type": "code",
   "execution_count": 447,
   "metadata": {},
   "outputs": [],
   "source": [
    "bike_olimpic3.rename(columns={'age':'numbers'}, inplace=True)"
   ]
  },
  {
   "cell_type": "code",
   "execution_count": 448,
   "metadata": {},
   "outputs": [
    {
     "data": {
      "text/plain": [
       "<matplotlib.axes._subplots.AxesSubplot at 0x7f6cd81d6c50>"
      ]
     },
     "execution_count": 448,
     "metadata": {},
     "output_type": "execute_result"
    },
    {
     "data": {
      "image/png": "[encoded data removed]",
      "text/plain": [
       "<Figure size 432x288 with 1 Axes>"
      ]
     },
     "metadata": {},
     "output_type": "display_data"
    }
   ],
   "source": [
    "sns.barplot(x=bike_olimpic3.index, y = 'numbers', data=bike_olimpic3, palette=clrs1)"
   ]
  },
  {
   "cell_type": "code",
   "execution_count": null,
   "metadata": {},
   "outputs": [],
   "source": []
  }
 ],
 "metadata": {
  "kernelspec": {
   "display_name": "Python 3",
   "language": "python",
   "name": "python3"
  },
  "language_info": {
   "codemirror_mode": {
    "name": "ipython",
    "version": 3
   },
   "file_extension": ".py",
   "mimetype": "text/x-python",
   "name": "python",
   "nbconvert_exporter": "python",
   "pygments_lexer": "ipython3",
   "version": "3.7.5"
  }
 },
 "nbformat": 4,
 "nbformat_minor": 2
}
