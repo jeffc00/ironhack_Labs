{
 "cells": [
  {
   "cell_type": "code",
   "execution_count": 50,
   "metadata": {},
   "outputs": [],
   "source": [
    "import numpy as np\n",
    "import pandas as pd\n",
    "from sklearn.ensemble import RandomForestClassifier\n",
    "from sklearn.model_selection import train_test_split\n",
    "from sklearn.metrics import classification_report, recall_score, f1_score\n",
    "import re\n",
    "from yellowbrick.classifier import confusion_matrix, ROCAUC\n",
    "import matplotlib.pyplot as plt\n",
    "import seaborn as sns\n",
    "from datetime import datetime \n",
    "from lightgbm import LGBMClassifier"
   ]
  },
  {
   "cell_type": "code",
   "execution_count": 2,
   "metadata": {},
   "outputs": [],
   "source": [
    "data = pd.read_csv('../Projeto/data/test.csv')"
   ]
  },
  {
   "cell_type": "code",
   "execution_count": 3,
   "metadata": {},
   "outputs": [],
   "source": [
    "rain = pd.read_csv(\"../Projeto/data/rain.csv\")"
   ]
  },
  {
   "cell_type": "markdown",
   "metadata": {},
   "source": [
    "### Tratamento dos Dados"
   ]
  },
  {
   "cell_type": "code",
   "execution_count": 4,
   "metadata": {},
   "outputs": [],
   "source": [
    "standrain = '%m/%d/%Y'"
   ]
  },
  {
   "cell_type": "code",
   "execution_count": 5,
   "metadata": {},
   "outputs": [],
   "source": [
    "rain['Date2'] = rain['Date'].apply(lambda x : datetime.strptime(x,standrain))"
   ]
  },
  {
   "cell_type": "code",
   "execution_count": 6,
   "metadata": {},
   "outputs": [
    {
     "data": {
      "text/html": [
       "<div>\n",
       "<style scoped>\n",
       "    .dataframe tbody tr th:only-of-type {\n",
       "        vertical-align: middle;\n",
       "    }\n",
       "\n",
       "    .dataframe tbody tr th {\n",
       "        vertical-align: top;\n",
       "    }\n",
       "\n",
       "    .dataframe thead th {\n",
       "        text-align: right;\n",
       "    }\n",
       "</style>\n",
       "<table border=\"1\" class=\"dataframe\">\n",
       "  <thead>\n",
       "    <tr style=\"text-align: right;\">\n",
       "      <th></th>\n",
       "      <th>Date</th>\n",
       "      <th>Rain_mm</th>\n",
       "      <th>Date2</th>\n",
       "    </tr>\n",
       "  </thead>\n",
       "  <tbody>\n",
       "    <tr>\n",
       "      <th>0</th>\n",
       "      <td>10/1/2017</td>\n",
       "      <td>0.0</td>\n",
       "      <td>2017-10-01</td>\n",
       "    </tr>\n",
       "    <tr>\n",
       "      <th>1</th>\n",
       "      <td>10/2/2017</td>\n",
       "      <td>0.0</td>\n",
       "      <td>2017-10-02</td>\n",
       "    </tr>\n",
       "    <tr>\n",
       "      <th>2</th>\n",
       "      <td>10/3/2017</td>\n",
       "      <td>1.1</td>\n",
       "      <td>2017-10-03</td>\n",
       "    </tr>\n",
       "    <tr>\n",
       "      <th>3</th>\n",
       "      <td>10/4/2017</td>\n",
       "      <td>0.0</td>\n",
       "      <td>2017-10-04</td>\n",
       "    </tr>\n",
       "    <tr>\n",
       "      <th>4</th>\n",
       "      <td>10/5/2017</td>\n",
       "      <td>1.2</td>\n",
       "      <td>2017-10-05</td>\n",
       "    </tr>\n",
       "  </tbody>\n",
       "</table>\n",
       "</div>"
      ],
      "text/plain": [
       "        Date  Rain_mm      Date2\n",
       "0  10/1/2017      0.0 2017-10-01\n",
       "1  10/2/2017      0.0 2017-10-02\n",
       "2  10/3/2017      1.1 2017-10-03\n",
       "3  10/4/2017      0.0 2017-10-04\n",
       "4  10/5/2017      1.2 2017-10-05"
      ]
     },
     "execution_count": 6,
     "metadata": {},
     "output_type": "execute_result"
    }
   ],
   "source": [
    "rain.head()"
   ]
  },
  {
   "cell_type": "code",
   "execution_count": 7,
   "metadata": {},
   "outputs": [],
   "source": [
    "standdata = '%d/%m/%Y'"
   ]
  },
  {
   "cell_type": "code",
   "execution_count": 8,
   "metadata": {},
   "outputs": [],
   "source": [
    "ind = list(data[data['Data de entrada'].isnull()].index)"
   ]
  },
  {
   "cell_type": "code",
   "execution_count": 9,
   "metadata": {},
   "outputs": [],
   "source": [
    "data= data.drop(index=ind)"
   ]
  },
  {
   "cell_type": "code",
   "execution_count": 10,
   "metadata": {},
   "outputs": [],
   "source": [
    "data['dataNew'] = data['Data de entrada'].apply(lambda x : datetime.strptime(str(x), standdata) )"
   ]
  },
  {
   "cell_type": "code",
   "execution_count": 12,
   "metadata": {},
   "outputs": [
    {
     "data": {
      "text/plain": [
       "['Date', 'Rain_mm', 'Date2']"
      ]
     },
     "execution_count": 12,
     "metadata": {},
     "output_type": "execute_result"
    }
   ],
   "source": [
    "#Trocando a ordem das colunas.\n",
    "list(rain.columns)"
   ]
  },
  {
   "cell_type": "code",
   "execution_count": 13,
   "metadata": {},
   "outputs": [],
   "source": [
    "#Trocando a ordem das colunas.\n",
    "\n",
    "rain = rain[['Date2','Rain_mm', 'Date']]"
   ]
  },
  {
   "cell_type": "code",
   "execution_count": 14,
   "metadata": {},
   "outputs": [],
   "source": [
    "d = {}\n",
    "for i in range(822):\n",
    "    d[rain['Date2'][i]] = rain['Rain_mm'][i]"
   ]
  },
  {
   "cell_type": "code",
   "execution_count": 15,
   "metadata": {},
   "outputs": [],
   "source": [
    "data['Precip'] = data.dataNew.apply(lambda x : d[x])"
   ]
  },
  {
   "cell_type": "code",
   "execution_count": 16,
   "metadata": {},
   "outputs": [],
   "source": [
    "data = data.query('Estado in (\"Fechado\",\"Cancelado\")')"
   ]
  },
  {
   "cell_type": "code",
   "execution_count": 17,
   "metadata": {},
   "outputs": [
    {
     "data": {
      "text/plain": [
       "Fechado      2389\n",
       "Cancelado     511\n",
       "Name: Estado, dtype: int64"
      ]
     },
     "execution_count": 17,
     "metadata": {},
     "output_type": "execute_result"
    }
   ],
   "source": [
    "data.Estado.value_counts()"
   ]
  },
  {
   "cell_type": "code",
   "execution_count": 19,
   "metadata": {},
   "outputs": [],
   "source": [
    "def empresa(x):\n",
    "    if x == 'Booking.com':\n",
    "        return 1\n",
    "    else:\n",
    "        return 0 "
   ]
  },
  {
   "cell_type": "code",
   "execution_count": 20,
   "metadata": {},
   "outputs": [],
   "source": [
    "data['EmpresaNew'] = data['Empresa'].apply(lambda x : empresa(x))"
   ]
  },
  {
   "cell_type": "code",
   "execution_count": 21,
   "metadata": {},
   "outputs": [],
   "source": [
    "data = data.reset_index()"
   ]
  },
  {
   "cell_type": "code",
   "execution_count": 22,
   "metadata": {},
   "outputs": [
    {
     "data": {
      "text/plain": [
       "Index(['index', 'Reserva', 'Estado', 'Cliente', 'Email', 'Pax', 'Apartamento',\n",
       "       'Empresa', 'Agência', 'Referência', 'Data de entrada', 'Data de saída',\n",
       "       'Diárias', 'Horario de reabertura', 'Saldo devedor', 'Pago', 'Total',\n",
       "       'Unnamed: 16', 'Unnamed: 17', 'Unnamed: 18', 'Unnamed: 19',\n",
       "       'Unnamed: 20', 'dataNew', 'Precip', 'EmpresaNew'],\n",
       "      dtype='object')"
      ]
     },
     "execution_count": 22,
     "metadata": {},
     "output_type": "execute_result"
    }
   ],
   "source": [
    "data.columns"
   ]
  },
  {
   "cell_type": "code",
   "execution_count": 23,
   "metadata": {},
   "outputs": [],
   "source": [
    "def transform(x):\n",
    "    try:\n",
    "        if type(x) == str:\n",
    "            return int(x)\n",
    "        else:\n",
    "            return np.nan\n",
    "    except:\n",
    "        return np.nan"
   ]
  },
  {
   "cell_type": "code",
   "execution_count": 24,
   "metadata": {},
   "outputs": [],
   "source": [
    "def transformEstado(x):\n",
    "\n",
    "    if x == 'Fechado':\n",
    "        return 0\n",
    "    elif x == 'Cancelado':\n",
    "        return 1\n"
   ]
  },
  {
   "cell_type": "code",
   "execution_count": 25,
   "metadata": {},
   "outputs": [],
   "source": [
    "def transformTotal(x):\n",
    "    try:\n",
    "        if type(x) == str:\n",
    "            return int(re.findall(r'\\d+',x)[0])\n",
    "        else:\n",
    "            return np.nan\n",
    "    except:\n",
    "        return np.nan"
   ]
  },
  {
   "cell_type": "code",
   "execution_count": 26,
   "metadata": {},
   "outputs": [],
   "source": [
    "data['PaxNew'] = data['Pax'].apply(lambda x : transform(x))"
   ]
  },
  {
   "cell_type": "code",
   "execution_count": 27,
   "metadata": {},
   "outputs": [],
   "source": [
    "data['DiariasNew'] = data['Diárias'].apply(lambda x : transform(x))"
   ]
  },
  {
   "cell_type": "code",
   "execution_count": 28,
   "metadata": {},
   "outputs": [],
   "source": [
    "data['TotalNew'] = data['Unnamed: 17'].apply(lambda x : transformTotal(x))"
   ]
  },
  {
   "cell_type": "code",
   "execution_count": 29,
   "metadata": {},
   "outputs": [],
   "source": [
    "data['EstadoNew'] = data['Estado'].apply(lambda x : transformEstado(x))"
   ]
  },
  {
   "cell_type": "code",
   "execution_count": 30,
   "metadata": {},
   "outputs": [],
   "source": [
    "data['AptoNew'] = data['Apartamento'].apply(lambda x : transform(x))"
   ]
  },
  {
   "cell_type": "code",
   "execution_count": 31,
   "metadata": {},
   "outputs": [],
   "source": [
    "data = data.query('Cliente != \"Julio e Angela\"')"
   ]
  },
  {
   "cell_type": "code",
   "execution_count": 32,
   "metadata": {},
   "outputs": [
    {
     "data": {
      "text/plain": [
       "Index(['index', 'Reserva', 'Estado', 'Cliente', 'Email', 'Pax', 'Apartamento',\n",
       "       'Empresa', 'Agência', 'Referência', 'Data de entrada', 'Data de saída',\n",
       "       'Diárias', 'Horario de reabertura', 'Saldo devedor', 'Pago', 'Total',\n",
       "       'Unnamed: 16', 'Unnamed: 17', 'Unnamed: 18', 'Unnamed: 19',\n",
       "       'Unnamed: 20', 'dataNew', 'Precip', 'EmpresaNew', 'PaxNew',\n",
       "       'DiariasNew', 'TotalNew', 'EstadoNew', 'AptoNew'],\n",
       "      dtype='object')"
      ]
     },
     "execution_count": 32,
     "metadata": {},
     "output_type": "execute_result"
    }
   ],
   "source": [
    "data.columns"
   ]
  },
  {
   "cell_type": "code",
   "execution_count": 33,
   "metadata": {},
   "outputs": [],
   "source": [
    "toDrop = ['Empresa','Unnamed: 16', 'Unnamed: 17', 'Unnamed: 18','index', 'Agência', \n",
    "           'Diárias', 'Referência', 'Total', 'Unnamed: 19', 'Unnamed: 20','Saldo devedor']"
   ]
  },
  {
   "cell_type": "code",
   "execution_count": 34,
   "metadata": {},
   "outputs": [],
   "source": [
    "data = data.drop(columns = toDrop)"
   ]
  },
  {
   "cell_type": "code",
   "execution_count": 35,
   "metadata": {},
   "outputs": [
    {
     "data": {
      "text/plain": [
       "Index(['Reserva', 'Estado', 'Cliente', 'Email', 'Pax', 'Apartamento',\n",
       "       'Data de entrada', 'Data de saída', 'Horario de reabertura', 'Pago',\n",
       "       'dataNew', 'Precip', 'EmpresaNew', 'PaxNew', 'DiariasNew', 'TotalNew',\n",
       "       'EstadoNew', 'AptoNew'],\n",
       "      dtype='object')"
      ]
     },
     "execution_count": 35,
     "metadata": {},
     "output_type": "execute_result"
    }
   ],
   "source": [
    "data.columns"
   ]
  },
  {
   "cell_type": "code",
   "execution_count": 36,
   "metadata": {},
   "outputs": [
    {
     "name": "stdout",
     "output_type": "stream",
     "text": [
      "<class 'pandas.core.frame.DataFrame'>\n",
      "Int64Index: 2863 entries, 0 to 2899\n",
      "Data columns (total 18 columns):\n",
      "Reserva                  2863 non-null object\n",
      "Estado                   2863 non-null object\n",
      "Cliente                  2863 non-null object\n",
      "Email                    490 non-null object\n",
      "Pax                      2863 non-null object\n",
      "Apartamento              2797 non-null object\n",
      "Data de entrada          2863 non-null object\n",
      "Data de saída            2863 non-null object\n",
      "Horario de reabertura    47 non-null object\n",
      "Pago                     2863 non-null object\n",
      "dataNew                  2863 non-null datetime64[ns]\n",
      "Precip                   2848 non-null float64\n",
      "EmpresaNew               2863 non-null int64\n",
      "PaxNew                   2863 non-null int64\n",
      "DiariasNew               2863 non-null int64\n",
      "TotalNew                 2863 non-null int64\n",
      "EstadoNew                2863 non-null int64\n",
      "AptoNew                  2797 non-null float64\n",
      "dtypes: datetime64[ns](1), float64(2), int64(5), object(10)\n",
      "memory usage: 425.0+ KB\n"
     ]
    }
   ],
   "source": [
    "data.info()"
   ]
  },
  {
   "cell_type": "code",
   "execution_count": 37,
   "metadata": {},
   "outputs": [
    {
     "data": {
      "text/html": [
       "<div>\n",
       "<style scoped>\n",
       "    .dataframe tbody tr th:only-of-type {\n",
       "        vertical-align: middle;\n",
       "    }\n",
       "\n",
       "    .dataframe tbody tr th {\n",
       "        vertical-align: top;\n",
       "    }\n",
       "\n",
       "    .dataframe thead th {\n",
       "        text-align: right;\n",
       "    }\n",
       "</style>\n",
       "<table border=\"1\" class=\"dataframe\">\n",
       "  <thead>\n",
       "    <tr style=\"text-align: right;\">\n",
       "      <th></th>\n",
       "      <th>Reserva</th>\n",
       "      <th>Estado</th>\n",
       "      <th>Cliente</th>\n",
       "      <th>Email</th>\n",
       "      <th>Pax</th>\n",
       "      <th>Apartamento</th>\n",
       "      <th>Data de entrada</th>\n",
       "      <th>Data de saída</th>\n",
       "      <th>Horario de reabertura</th>\n",
       "      <th>Pago</th>\n",
       "      <th>dataNew</th>\n",
       "      <th>Precip</th>\n",
       "      <th>EmpresaNew</th>\n",
       "      <th>PaxNew</th>\n",
       "      <th>DiariasNew</th>\n",
       "      <th>TotalNew</th>\n",
       "      <th>EstadoNew</th>\n",
       "      <th>AptoNew</th>\n",
       "    </tr>\n",
       "  </thead>\n",
       "  <tbody>\n",
       "    <tr>\n",
       "      <th>0</th>\n",
       "      <td>#17105-475.432</td>\n",
       "      <td>Fechado</td>\n",
       "      <td>Rosenildo  Batista</td>\n",
       "      <td>prime_jet@hotmail.com</td>\n",
       "      <td>1</td>\n",
       "      <td>13</td>\n",
       "      <td>18/10/2017</td>\n",
       "      <td>23/10/2017</td>\n",
       "      <td>NaN</td>\n",
       "      <td>0</td>\n",
       "      <td>2017-10-18</td>\n",
       "      <td>55.6</td>\n",
       "      <td>0</td>\n",
       "      <td>1</td>\n",
       "      <td>5</td>\n",
       "      <td>1300</td>\n",
       "      <td>0</td>\n",
       "      <td>13.0</td>\n",
       "    </tr>\n",
       "    <tr>\n",
       "      <th>1</th>\n",
       "      <td>#17106-356.342</td>\n",
       "      <td>Fechado</td>\n",
       "      <td>DIEGO  MUNIZ</td>\n",
       "      <td>diego@cmotelecom.com.br</td>\n",
       "      <td>2</td>\n",
       "      <td>1</td>\n",
       "      <td>19/10/2017</td>\n",
       "      <td>21/10/2017</td>\n",
       "      <td>NaN</td>\n",
       "      <td>0</td>\n",
       "      <td>2017-10-19</td>\n",
       "      <td>7.2</td>\n",
       "      <td>0</td>\n",
       "      <td>2</td>\n",
       "      <td>2</td>\n",
       "      <td>530</td>\n",
       "      <td>0</td>\n",
       "      <td>1.0</td>\n",
       "    </tr>\n",
       "    <tr>\n",
       "      <th>2</th>\n",
       "      <td>#17106-935.772</td>\n",
       "      <td>Fechado</td>\n",
       "      <td>CARLOS  HENRIQUE</td>\n",
       "      <td>carlos@comfibranet.com.br</td>\n",
       "      <td>2</td>\n",
       "      <td>6</td>\n",
       "      <td>19/10/2017</td>\n",
       "      <td>21/10/2017</td>\n",
       "      <td>NaN</td>\n",
       "      <td>0</td>\n",
       "      <td>2017-10-19</td>\n",
       "      <td>7.2</td>\n",
       "      <td>0</td>\n",
       "      <td>2</td>\n",
       "      <td>2</td>\n",
       "      <td>550</td>\n",
       "      <td>0</td>\n",
       "      <td>6.0</td>\n",
       "    </tr>\n",
       "    <tr>\n",
       "      <th>3</th>\n",
       "      <td>#17106-971.454</td>\n",
       "      <td>Fechado</td>\n",
       "      <td>JORGE LUIS  R. FERREIRA</td>\n",
       "      <td>NaN</td>\n",
       "      <td>2</td>\n",
       "      <td>7</td>\n",
       "      <td>20/10/2017</td>\n",
       "      <td>24/10/2017</td>\n",
       "      <td>NaN</td>\n",
       "      <td>0</td>\n",
       "      <td>2017-10-20</td>\n",
       "      <td>0.0</td>\n",
       "      <td>0</td>\n",
       "      <td>2</td>\n",
       "      <td>4</td>\n",
       "      <td>1152</td>\n",
       "      <td>0</td>\n",
       "      <td>7.0</td>\n",
       "    </tr>\n",
       "    <tr>\n",
       "      <th>4</th>\n",
       "      <td>#17106-866.159</td>\n",
       "      <td>Fechado</td>\n",
       "      <td>LORENA  HUERGA</td>\n",
       "      <td>NaN</td>\n",
       "      <td>2</td>\n",
       "      <td>9</td>\n",
       "      <td>20/10/2017</td>\n",
       "      <td>24/10/2017</td>\n",
       "      <td>NaN</td>\n",
       "      <td>0</td>\n",
       "      <td>2017-10-20</td>\n",
       "      <td>0.0</td>\n",
       "      <td>0</td>\n",
       "      <td>2</td>\n",
       "      <td>4</td>\n",
       "      <td>1282</td>\n",
       "      <td>0</td>\n",
       "      <td>9.0</td>\n",
       "    </tr>\n",
       "  </tbody>\n",
       "</table>\n",
       "</div>"
      ],
      "text/plain": [
       "          Reserva   Estado                  Cliente  \\\n",
       "0  #17105-475.432  Fechado       Rosenildo  Batista   \n",
       "1  #17106-356.342  Fechado             DIEGO  MUNIZ   \n",
       "2  #17106-935.772  Fechado         CARLOS  HENRIQUE   \n",
       "3  #17106-971.454  Fechado  JORGE LUIS  R. FERREIRA   \n",
       "4  #17106-866.159  Fechado           LORENA  HUERGA   \n",
       "\n",
       "                       Email Pax Apartamento Data de entrada Data de saída  \\\n",
       "0      prime_jet@hotmail.com   1          13      18/10/2017    23/10/2017   \n",
       "1    diego@cmotelecom.com.br   2           1      19/10/2017    21/10/2017   \n",
       "2  carlos@comfibranet.com.br   2           6      19/10/2017    21/10/2017   \n",
       "3                        NaN   2           7      20/10/2017    24/10/2017   \n",
       "4                        NaN   2           9      20/10/2017    24/10/2017   \n",
       "\n",
       "  Horario de reabertura Pago    dataNew  Precip  EmpresaNew  PaxNew  \\\n",
       "0                   NaN    0 2017-10-18    55.6           0       1   \n",
       "1                   NaN    0 2017-10-19     7.2           0       2   \n",
       "2                   NaN    0 2017-10-19     7.2           0       2   \n",
       "3                   NaN    0 2017-10-20     0.0           0       2   \n",
       "4                   NaN    0 2017-10-20     0.0           0       2   \n",
       "\n",
       "   DiariasNew  TotalNew  EstadoNew  AptoNew  \n",
       "0           5      1300          0     13.0  \n",
       "1           2       530          0      1.0  \n",
       "2           2       550          0      6.0  \n",
       "3           4      1152          0      7.0  \n",
       "4           4      1282          0      9.0  "
      ]
     },
     "execution_count": 37,
     "metadata": {},
     "output_type": "execute_result"
    }
   ],
   "source": [
    "data.head()"
   ]
  },
  {
   "cell_type": "code",
   "execution_count": 39,
   "metadata": {},
   "outputs": [],
   "source": [
    "toML = ['PaxNew', 'DiariasNew', 'TotalNew','EmpresaNew','Precip']\n",
    "\n",
    "X = data[toML]\n",
    "y = data['EstadoNew']"
   ]
  },
  {
   "cell_type": "code",
   "execution_count": 59,
   "metadata": {},
   "outputs": [],
   "source": [
    "X = X.fillna(0)"
   ]
  },
  {
   "cell_type": "code",
   "execution_count": 60,
   "metadata": {},
   "outputs": [],
   "source": [
    "X_train, X_test, y_train, y_test = train_test_split(X, y, test_size=0.2)"
   ]
  },
  {
   "cell_type": "code",
   "execution_count": 61,
   "metadata": {},
   "outputs": [
    {
     "data": {
      "text/html": [
       "<div>\n",
       "<style scoped>\n",
       "    .dataframe tbody tr th:only-of-type {\n",
       "        vertical-align: middle;\n",
       "    }\n",
       "\n",
       "    .dataframe tbody tr th {\n",
       "        vertical-align: top;\n",
       "    }\n",
       "\n",
       "    .dataframe thead th {\n",
       "        text-align: right;\n",
       "    }\n",
       "</style>\n",
       "<table border=\"1\" class=\"dataframe\">\n",
       "  <thead>\n",
       "    <tr style=\"text-align: right;\">\n",
       "      <th></th>\n",
       "      <th>PaxNew</th>\n",
       "      <th>DiariasNew</th>\n",
       "      <th>TotalNew</th>\n",
       "      <th>EmpresaNew</th>\n",
       "      <th>Precip</th>\n",
       "    </tr>\n",
       "  </thead>\n",
       "  <tbody>\n",
       "    <tr>\n",
       "      <th>130</th>\n",
       "      <td>1</td>\n",
       "      <td>1</td>\n",
       "      <td>180</td>\n",
       "      <td>0</td>\n",
       "      <td>0.0</td>\n",
       "    </tr>\n",
       "    <tr>\n",
       "      <th>1611</th>\n",
       "      <td>2</td>\n",
       "      <td>1</td>\n",
       "      <td>420</td>\n",
       "      <td>0</td>\n",
       "      <td>8.2</td>\n",
       "    </tr>\n",
       "    <tr>\n",
       "      <th>1712</th>\n",
       "      <td>2</td>\n",
       "      <td>2</td>\n",
       "      <td>594</td>\n",
       "      <td>0</td>\n",
       "      <td>0.0</td>\n",
       "    </tr>\n",
       "    <tr>\n",
       "      <th>1216</th>\n",
       "      <td>3</td>\n",
       "      <td>2</td>\n",
       "      <td>650</td>\n",
       "      <td>0</td>\n",
       "      <td>3.4</td>\n",
       "    </tr>\n",
       "    <tr>\n",
       "      <th>1769</th>\n",
       "      <td>2</td>\n",
       "      <td>2</td>\n",
       "      <td>936</td>\n",
       "      <td>1</td>\n",
       "      <td>16.0</td>\n",
       "    </tr>\n",
       "  </tbody>\n",
       "</table>\n",
       "</div>"
      ],
      "text/plain": [
       "      PaxNew  DiariasNew  TotalNew  EmpresaNew  Precip\n",
       "130        1           1       180           0     0.0\n",
       "1611       2           1       420           0     8.2\n",
       "1712       2           2       594           0     0.0\n",
       "1216       3           2       650           0     3.4\n",
       "1769       2           2       936           1    16.0"
      ]
     },
     "execution_count": 61,
     "metadata": {},
     "output_type": "execute_result"
    }
   ],
   "source": [
    "X_train.head()"
   ]
  },
  {
   "cell_type": "code",
   "execution_count": 62,
   "metadata": {},
   "outputs": [
    {
     "name": "stderr",
     "output_type": "stream",
     "text": [
      "/home/rob/.local/lib/python3.7/site-packages/sklearn/metrics/classification.py:1437: UndefinedMetricWarning: F-score is ill-defined and being set to 0.0 due to no predicted samples.\n",
      "  'precision', 'predicted', average, warn_for)\n",
      "/home/rob/.local/lib/python3.7/site-packages/sklearn/metrics/classification.py:1437: UndefinedMetricWarning: F-score is ill-defined and being set to 0.0 due to no predicted samples.\n",
      "  'precision', 'predicted', average, warn_for)\n",
      "/home/rob/.local/lib/python3.7/site-packages/sklearn/metrics/classification.py:1437: UndefinedMetricWarning: F-score is ill-defined and being set to 0.0 due to no predicted samples.\n",
      "  'precision', 'predicted', average, warn_for)\n",
      "/home/rob/.local/lib/python3.7/site-packages/sklearn/metrics/classification.py:1437: UndefinedMetricWarning: F-score is ill-defined and being set to 0.0 due to no predicted samples.\n",
      "  'precision', 'predicted', average, warn_for)\n",
      "/home/rob/.local/lib/python3.7/site-packages/sklearn/metrics/classification.py:1437: UndefinedMetricWarning: F-score is ill-defined and being set to 0.0 due to no predicted samples.\n",
      "  'precision', 'predicted', average, warn_for)\n",
      "/home/rob/.local/lib/python3.7/site-packages/sklearn/metrics/classification.py:1437: UndefinedMetricWarning: F-score is ill-defined and being set to 0.0 due to no predicted samples.\n",
      "  'precision', 'predicted', average, warn_for)\n"
     ]
    },
    {
     "name": "stdout",
     "output_type": "stream",
     "text": [
      "(1-1) --> LGB: 0.00/0.00 Forest: 0.00/0.00 \n",
      "(1-2) --> LGB: 0.00/0.00 Forest: 0.00/0.00 \n",
      "(1-4) --> LGB: 0.00/0.00 Forest: 0.19/0.00 \n",
      "(1-8) --> LGB: 0.00/0.00 Forest: 0.18/0.00 \n",
      "(1-12) --> LGB: 0.00/0.00 Forest: 0.32/0.00 \n",
      "(1-16) --> LGB: 0.00/0.00 Forest: 0.35/0.00 \n"
     ]
    },
    {
     "name": "stderr",
     "output_type": "stream",
     "text": [
      "/home/rob/.local/lib/python3.7/site-packages/sklearn/metrics/classification.py:1437: UndefinedMetricWarning: F-score is ill-defined and being set to 0.0 due to no predicted samples.\n",
      "  'precision', 'predicted', average, warn_for)\n",
      "/home/rob/.local/lib/python3.7/site-packages/sklearn/metrics/classification.py:1437: UndefinedMetricWarning: F-score is ill-defined and being set to 0.0 due to no predicted samples.\n",
      "  'precision', 'predicted', average, warn_for)\n",
      "/home/rob/.local/lib/python3.7/site-packages/sklearn/metrics/classification.py:1437: UndefinedMetricWarning: F-score is ill-defined and being set to 0.0 due to no predicted samples.\n",
      "  'precision', 'predicted', average, warn_for)\n",
      "/home/rob/.local/lib/python3.7/site-packages/sklearn/metrics/classification.py:1437: UndefinedMetricWarning: F-score is ill-defined and being set to 0.0 due to no predicted samples.\n",
      "  'precision', 'predicted', average, warn_for)\n"
     ]
    },
    {
     "name": "stdout",
     "output_type": "stream",
     "text": [
      "(1-20) --> LGB: 0.00/0.00 Forest: 0.37/0.00 \n",
      "(1-30) --> LGB: 0.00/0.00 Forest: 0.33/0.00 \n",
      "(1-40) --> LGB: 0.00/0.00 Forest: 0.31/0.00 \n",
      "(1-50) --> LGB: 0.00/0.00 Forest: 0.35/0.00 \n",
      "----\n"
     ]
    },
    {
     "name": "stderr",
     "output_type": "stream",
     "text": [
      "/home/rob/.local/lib/python3.7/site-packages/sklearn/metrics/classification.py:1437: UndefinedMetricWarning: F-score is ill-defined and being set to 0.0 due to no predicted samples.\n",
      "  'precision', 'predicted', average, warn_for)\n"
     ]
    },
    {
     "name": "stdout",
     "output_type": "stream",
     "text": [
      "(25-1) --> LGB: 0.00/0.00 Forest: 0.00/0.00 \n"
     ]
    },
    {
     "name": "stderr",
     "output_type": "stream",
     "text": [
      "/home/rob/.local/lib/python3.7/site-packages/sklearn/metrics/classification.py:1437: UndefinedMetricWarning: F-score is ill-defined and being set to 0.0 due to no predicted samples.\n",
      "  'precision', 'predicted', average, warn_for)\n"
     ]
    },
    {
     "name": "stdout",
     "output_type": "stream",
     "text": [
      "(25-2) --> LGB: 0.00/0.00 Forest: 0.00/0.00 \n",
      "(25-4) --> LGB: 0.02/0.04 Forest: 0.05/0.04 \n",
      "(25-8) --> LGB: 0.04/0.07 Forest: 0.13/0.07 \n",
      "(25-12) --> LGB: 0.06/0.10 Forest: 0.23/0.10 \n",
      "(25-16) --> LGB: 0.06/0.10 Forest: 0.24/0.10 \n",
      "(25-20) --> LGB: 0.06/0.10 Forest: 0.32/0.10 \n",
      "(25-30) --> LGB: 0.06/0.10 Forest: 0.30/0.10 \n",
      "(25-40) --> LGB: 0.06/0.10 Forest: 0.31/0.10 \n",
      "(25-50) --> LGB: 0.06/0.10 Forest: 0.29/0.10 \n",
      "----\n"
     ]
    },
    {
     "name": "stderr",
     "output_type": "stream",
     "text": [
      "/home/rob/.local/lib/python3.7/site-packages/sklearn/metrics/classification.py:1437: UndefinedMetricWarning: F-score is ill-defined and being set to 0.0 due to no predicted samples.\n",
      "  'precision', 'predicted', average, warn_for)\n"
     ]
    },
    {
     "name": "stdout",
     "output_type": "stream",
     "text": [
      "(50-1) --> LGB: 0.00/0.00 Forest: 0.00/0.00 \n",
      "(50-2) --> LGB: 0.04/0.07 Forest: 0.00/0.07 \n",
      "(50-4) --> LGB: 0.04/0.07 Forest: 0.05/0.07 \n",
      "(50-8) --> LGB: 0.13/0.21 Forest: 0.12/0.21 \n",
      "(50-12) --> LGB: 0.14/0.22 Forest: 0.25/0.22 \n",
      "(50-16) --> LGB: 0.12/0.19 Forest: 0.29/0.19 \n",
      "(50-20) --> LGB: 0.14/0.22 Forest: 0.30/0.22 \n",
      "(50-30) --> LGB: 0.15/0.23 Forest: 0.31/0.23 \n",
      "(50-40) --> LGB: 0.15/0.23 Forest: 0.29/0.23 \n",
      "(50-50) --> LGB: 0.15/0.23 Forest: 0.31/0.23 \n",
      "----\n",
      "(75-1) --> LGB: 0.01/0.02 Forest: 0.00/0.02 \n",
      "(75-2) --> LGB: 0.06/0.10 Forest: 0.00/0.10 \n",
      "(75-4) --> LGB: 0.08/0.13 Forest: 0.05/0.13 \n",
      "(75-8) --> LGB: 0.18/0.27 Forest: 0.11/0.27 \n",
      "(75-12) --> LGB: 0.16/0.24 Forest: 0.21/0.24 \n",
      "(75-16) --> LGB: 0.17/0.26 Forest: 0.31/0.26 \n",
      "(75-20) --> LGB: 0.17/0.25 Forest: 0.32/0.25 \n",
      "(75-30) --> LGB: 0.18/0.26 Forest: 0.34/0.26 \n",
      "(75-40) --> LGB: 0.18/0.26 Forest: 0.32/0.26 \n",
      "(75-50) --> LGB: 0.18/0.26 Forest: 0.33/0.26 \n",
      "----\n",
      "(100-1) --> LGB: 0.02/0.04 Forest: 0.00/0.04 \n",
      "(100-2) --> LGB: 0.07/0.12 Forest: 0.00/0.12 \n",
      "(100-4) --> LGB: 0.08/0.13 Forest: 0.05/0.13 \n",
      "(100-8) --> LGB: 0.20/0.29 Forest: 0.10/0.29 \n",
      "(100-12) --> LGB: 0.18/0.26 Forest: 0.20/0.26 \n",
      "(100-16) --> LGB: 0.18/0.26 Forest: 0.31/0.26 \n",
      "(100-20) --> LGB: 0.19/0.28 Forest: 0.33/0.28 \n",
      "(100-30) --> LGB: 0.20/0.28 Forest: 0.34/0.28 \n",
      "(100-40) --> LGB: 0.20/0.28 Forest: 0.31/0.28 \n",
      "(100-50) --> LGB: 0.20/0.28 Forest: 0.30/0.28 \n",
      "----\n",
      "(150-1) --> LGB: 0.03/0.06 Forest: 0.00/0.06 \n",
      "(150-2) --> LGB: 0.08/0.13 Forest: 0.00/0.13 \n",
      "(150-4) --> LGB: 0.12/0.19 Forest: 0.07/0.19 \n",
      "(150-8) --> LGB: 0.24/0.33 Forest: 0.11/0.33 \n",
      "(150-12) --> LGB: 0.18/0.26 Forest: 0.24/0.26 \n",
      "(150-16) --> LGB: 0.23/0.30 Forest: 0.31/0.30 \n",
      "(150-20) --> LGB: 0.20/0.27 Forest: 0.31/0.27 \n",
      "(150-30) --> LGB: 0.22/0.30 Forest: 0.31/0.30 \n",
      "(150-40) --> LGB: 0.22/0.30 Forest: 0.32/0.30 \n",
      "(150-50) --> LGB: 0.22/0.30 Forest: 0.31/0.30 \n",
      "----\n",
      "(200-1) --> LGB: 0.05/0.09 Forest: 0.00/0.09 \n",
      "(200-2) --> LGB: 0.11/0.18 Forest: 0.00/0.18 \n",
      "(200-4) --> LGB: 0.11/0.17 Forest: 0.05/0.17 \n",
      "(200-8) --> LGB: 0.22/0.30 Forest: 0.11/0.30 \n",
      "(200-12) --> LGB: 0.21/0.29 Forest: 0.24/0.29 \n",
      "(200-16) --> LGB: 0.24/0.32 Forest: 0.29/0.32 \n",
      "(200-20) --> LGB: 0.22/0.29 Forest: 0.32/0.29 \n",
      "(200-30) --> LGB: 0.26/0.34 Forest: 0.31/0.34 \n",
      "(200-40) --> LGB: 0.26/0.34 Forest: 0.31/0.34 \n",
      "(200-50) --> LGB: 0.26/0.34 Forest: 0.32/0.34 \n",
      "----\n",
      "(250-1) --> LGB: 0.05/0.09 Forest: 0.00/0.09 \n",
      "(250-2) --> LGB: 0.11/0.17 Forest: 0.00/0.17 \n",
      "(250-4) --> LGB: 0.12/0.20 Forest: 0.06/0.20 \n",
      "(250-8) --> LGB: 0.25/0.33 Forest: 0.10/0.33 \n",
      "(250-12) --> LGB: 0.22/0.29 Forest: 0.22/0.29 \n",
      "(250-16) --> LGB: 0.25/0.32 Forest: 0.29/0.32 \n",
      "(250-20) --> LGB: 0.24/0.31 Forest: 0.33/0.31 \n",
      "(250-30) --> LGB: 0.27/0.34 Forest: 0.32/0.34 \n",
      "(250-40) --> LGB: 0.27/0.34 Forest: 0.31/0.34 \n",
      "(250-50) --> LGB: 0.27/0.34 Forest: 0.32/0.34 \n",
      "----\n",
      "(300-1) --> LGB: 0.05/0.09 Forest: 0.00/0.09 \n",
      "(300-2) --> LGB: 0.12/0.19 Forest: 0.00/0.19 \n",
      "(300-4) --> LGB: 0.12/0.19 Forest: 0.06/0.19 \n",
      "(300-8) --> LGB: 0.24/0.31 Forest: 0.12/0.31 \n",
      "(300-12) --> LGB: 0.24/0.31 Forest: 0.22/0.31 \n",
      "(300-16) --> LGB: 0.28/0.35 Forest: 0.30/0.35 \n",
      "(300-20) --> LGB: 0.25/0.32 Forest: 0.33/0.32 \n",
      "(300-30) --> LGB: 0.26/0.33 Forest: 0.34/0.33 \n",
      "(300-40) --> LGB: 0.26/0.33 Forest: 0.33/0.33 \n",
      "(300-50) --> LGB: 0.26/0.33 Forest: 0.31/0.33 \n",
      "----\n",
      "(500-1) --> LGB: 0.05/0.09 Forest: 0.00/0.09 \n",
      "(500-2) --> LGB: 0.12/0.19 Forest: 0.00/0.19 \n",
      "(500-4) --> LGB: 0.16/0.24 Forest: 0.04/0.24 \n",
      "(500-8) --> LGB: 0.25/0.32 Forest: 0.10/0.32 \n",
      "(500-12) --> LGB: 0.27/0.34 Forest: 0.22/0.34 \n",
      "(500-16) --> LGB: 0.26/0.32 Forest: 0.32/0.32 \n",
      "(500-20) --> LGB: 0.26/0.31 Forest: 0.32/0.31 \n",
      "(500-30) --> LGB: 0.28/0.33 Forest: 0.34/0.33 \n",
      "(500-40) --> LGB: 0.28/0.33 Forest: 0.30/0.33 \n",
      "(500-50) --> LGB: 0.28/0.33 Forest: 0.31/0.33 \n",
      "----\n",
      "(700-1) --> LGB: 0.05/0.09 Forest: 0.00/0.09 \n",
      "(700-2) --> LGB: 0.13/0.21 Forest: 0.00/0.21 \n",
      "(700-4) --> LGB: 0.23/0.31 Forest: 0.04/0.31 \n",
      "(700-8) --> LGB: 0.27/0.33 Forest: 0.10/0.33 \n",
      "(700-12) --> LGB: 0.28/0.33 Forest: 0.23/0.33 \n",
      "(700-16) --> LGB: 0.26/0.31 Forest: 0.32/0.31 \n",
      "(700-20) --> LGB: 0.28/0.33 Forest: 0.33/0.33 \n",
      "(700-30) --> LGB: 0.28/0.32 Forest: 0.33/0.32 \n",
      "(700-40) --> LGB: 0.28/0.32 Forest: 0.33/0.32 \n",
      "(700-50) --> LGB: 0.28/0.32 Forest: 0.33/0.32 \n",
      "----\n",
      "(900-1) --> LGB: 0.05/0.08 Forest: 0.00/0.08 \n",
      "(900-2) --> LGB: 0.15/0.24 Forest: 0.00/0.24 \n",
      "(900-4) --> LGB: 0.25/0.33 Forest: 0.06/0.33 \n",
      "(900-8) --> LGB: 0.28/0.33 Forest: 0.11/0.33 \n",
      "(900-12) --> LGB: 0.28/0.32 Forest: 0.24/0.32 \n",
      "(900-16) --> LGB: 0.29/0.33 Forest: 0.30/0.33 \n",
      "(900-20) --> LGB: 0.26/0.30 Forest: 0.33/0.30 \n",
      "(900-30) --> LGB: 0.28/0.31 Forest: 0.33/0.31 \n",
      "(900-40) --> LGB: 0.28/0.31 Forest: 0.34/0.31 \n",
      "(900-50) --> LGB: 0.28/0.31 Forest: 0.34/0.31 \n",
      "----\n",
      "(1200-1) --> LGB: 0.05/0.08 Forest: 0.00/0.08 \n",
      "(1200-2) --> LGB: 0.16/0.24 Forest: 0.00/0.24 \n",
      "(1200-4) --> LGB: 0.25/0.32 Forest: 0.04/0.32 \n",
      "(1200-8) --> LGB: 0.28/0.32 Forest: 0.11/0.32 \n",
      "(1200-12) --> LGB: 0.32/0.36 Forest: 0.23/0.36 \n",
      "(1200-16) --> LGB: 0.28/0.32 Forest: 0.31/0.32 \n",
      "(1200-20) --> LGB: 0.30/0.34 Forest: 0.33/0.34 \n",
      "(1200-30) --> LGB: 0.31/0.34 Forest: 0.33/0.34 \n",
      "(1200-40) --> LGB: 0.31/0.34 Forest: 0.34/0.34 \n",
      "(1200-50) --> LGB: 0.31/0.34 Forest: 0.33/0.34 \n",
      "----\n",
      "(1500-1) --> LGB: 0.06/0.10 Forest: 0.00/0.10 \n",
      "(1500-2) --> LGB: 0.20/0.29 Forest: 0.00/0.29 \n",
      "(1500-4) --> LGB: 0.25/0.32 Forest: 0.06/0.32 \n",
      "(1500-8) --> LGB: 0.27/0.31 Forest: 0.10/0.31 \n",
      "(1500-12) --> LGB: 0.29/0.32 Forest: 0.23/0.32 \n",
      "(1500-16) --> LGB: 0.30/0.34 Forest: 0.32/0.34 \n",
      "(1500-20) --> LGB: 0.30/0.33 Forest: 0.33/0.33 \n",
      "(1500-30) --> LGB: 0.32/0.35 Forest: 0.32/0.35 \n",
      "(1500-40) --> LGB: 0.32/0.35 Forest: 0.33/0.35 \n",
      "(1500-50) --> LGB: 0.32/0.35 Forest: 0.33/0.35 \n",
      "----\n"
     ]
    }
   ],
   "source": [
    "lst = [1,25,50,75,100,150,200,250,300,500,700, 900, 1200, 1500]\n",
    "dep = [1,2,4,8,12,16,20,30,40,50]\n",
    "\n",
    "for i in lst:\n",
    "    for j in dep:\n",
    "        \n",
    "        model1 = LGBMClassifier(n_estimators=i, max_depth=j)\n",
    "        model2 = RandomForestClassifier(n_estimators=i, max_depth=j)\n",
    "\n",
    "        model1.fit(X_train, y_train)\n",
    "        model2.fit(X_train, y_train)\n",
    "\n",
    "\n",
    "        pred1 = model1.predict(X_test)\n",
    "        pred2 = model2.predict(X_test)\n",
    "\n",
    "        r1 = recall_score(y_test, pred1)\n",
    "        F1_1 = f1_score(y_test, pred1)\n",
    "        r2 = recall_score(y_test, pred2)\n",
    "        F1_2 = f1_score(y_test, pred1)\n",
    "        \n",
    "        print(f'({i}-{j}) --> LGB: {r1:0.2f}/{F1_1:0.2f} Forest: {r2:0.2f}/{F1_2:0.2f} ')\n",
    "    print('----')"
   ]
  },
  {
   "cell_type": "code",
   "execution_count": 63,
   "metadata": {},
   "outputs": [],
   "source": [
    "#Pegando o melhor modelo com 1200 e 50.\n",
    "model = RandomForestClassifier(n_estimators=1200, max_depth=50)\n",
    "\n",
    "model.fit(X_train, y_train)\n",
    "\n",
    "pred = model.predict(X_test)\n",
    "\n"
   ]
  },
  {
   "cell_type": "code",
   "execution_count": 64,
   "metadata": {},
   "outputs": [
    {
     "name": "stdout",
     "output_type": "stream",
     "text": [
      "              precision    recall  f1-score   support\n",
      "\n",
      "           0       0.86      0.91      0.89       469\n",
      "           1       0.45      0.33      0.38       104\n",
      "\n",
      "    accuracy                           0.81       573\n",
      "   macro avg       0.66      0.62      0.63       573\n",
      "weighted avg       0.79      0.81      0.79       573\n",
      "\n",
      "              precision    recall  f1-score   support\n",
      "\n",
      "           0       0.98      0.99      0.99      1892\n",
      "           1       0.95      0.90      0.93       398\n",
      "\n",
      "    accuracy                           0.98      2290\n",
      "   macro avg       0.97      0.95      0.96      2290\n",
      "weighted avg       0.98      0.98      0.98      2290\n",
      "\n"
     ]
    }
   ],
   "source": [
    "print(classification_report(y_test, pred))\n",
    "print(classification_report(y_train, model.predict(X_train)))"
   ]
  },
  {
   "cell_type": "code",
   "execution_count": 65,
   "metadata": {},
   "outputs": [],
   "source": [
    "from sklearn.preprocessing import binarize"
   ]
  },
  {
   "cell_type": "code",
   "execution_count": 66,
   "metadata": {},
   "outputs": [
    {
     "name": "stdout",
     "output_type": "stream",
     "text": [
      "              precision    recall  f1-score   support\n",
      "\n",
      "           0       0.86      0.81      0.83       469\n",
      "           1       0.31      0.38      0.34       104\n",
      "\n",
      "    accuracy                           0.73       573\n",
      "   macro avg       0.58      0.60      0.59       573\n",
      "weighted avg       0.76      0.73      0.74       573\n",
      "\n"
     ]
    }
   ],
   "source": [
    "y_test2 = binarize(model1.predict_proba(X_test), threshold=0.2)[:, 1]\n",
    "\n",
    "print(classification_report(y_test, y_test2))\n"
   ]
  },
  {
   "cell_type": "code",
   "execution_count": 67,
   "metadata": {},
   "outputs": [
    {
     "data": {
      "image/png": "[encoded data removed]",
      "text/plain": [
       "<Figure size 432x288 with 1 Axes>"
      ]
     },
     "metadata": {
      "needs_background": "light"
     },
     "output_type": "display_data"
    }
   ],
   "source": [
    "visualizer = confusion_matrix(model, X_test, y_test, test_size = 0.99)"
   ]
  },
  {
   "cell_type": "code",
   "execution_count": 68,
   "metadata": {},
   "outputs": [
    {
     "data": {
      "text/plain": [
       "0.3235294117647059"
      ]
     },
     "execution_count": 68,
     "metadata": {},
     "output_type": "execute_result"
    }
   ],
   "source": [
    "33/(69+33)"
   ]
  },
  {
   "cell_type": "code",
   "execution_count": 69,
   "metadata": {},
   "outputs": [
    {
     "name": "stdout",
     "output_type": "stream",
     "text": [
      "469\n",
      "498\n"
     ]
    }
   ],
   "source": [
    "# Reserva normal\n",
    "print((y_test == 0).sum())\n",
    "print((pred == 0).sum())"
   ]
  },
  {
   "cell_type": "code",
   "execution_count": 70,
   "metadata": {},
   "outputs": [
    {
     "name": "stdout",
     "output_type": "stream",
     "text": [
      "104\n",
      "75\n"
     ]
    }
   ],
   "source": [
    "# Reserva Cancelada\n",
    "print((y_test == 1).sum())\n",
    "print((pred == 1).sum())"
   ]
  },
  {
   "cell_type": "code",
   "execution_count": 71,
   "metadata": {},
   "outputs": [
    {
     "data": {
      "text/plain": [
       "array([ 2136,  3446, 24930,  1498, 12990], dtype=int32)"
      ]
     },
     "execution_count": 71,
     "metadata": {},
     "output_type": "execute_result"
    }
   ],
   "source": [
    "model1.feature_importances_"
   ]
  },
  {
   "cell_type": "code",
   "execution_count": 74,
   "metadata": {},
   "outputs": [
    {
     "data": {
      "text/plain": [
       "<matplotlib.axes._subplots.AxesSubplot at 0x7fe5f2bfc3d0>"
      ]
     },
     "execution_count": 74,
     "metadata": {},
     "output_type": "execute_result"
    },
    {
     "data": {
      "image/png": "[encoded data removed]",
      "text/plain": [
       "<Figure size 432x288 with 1 Axes>"
      ]
     },
     "metadata": {
      "needs_background": "light"
     },
     "output_type": "display_data"
    }
   ],
   "source": [
    "import lightgbm as lgb\n",
    "\n",
    "lgb.plot_importance(model1, importance_type='gain')"
   ]
  },
  {
   "cell_type": "code",
   "execution_count": null,
   "metadata": {},
   "outputs": [],
   "source": [
    "sns.distplot(data.query('EstadoNew == 1')['TotalNew'], hist=False, label='Cancelado')\n",
    "sns.distplot(data.query('EstadoNew == 0')['TotalNew'], hist=False, label='Fechado');"
   ]
  },
  {
   "cell_type": "code",
   "execution_count": null,
   "metadata": {},
   "outputs": [],
   "source": [
    "data.corr()"
   ]
  },
  {
   "cell_type": "code",
   "execution_count": null,
   "metadata": {},
   "outputs": [],
   "source": [
    "visualizer = ROCAUC(model1, classes=[\"Normal\", \"Cancelado\"])\n",
    "\n",
    "visualizer.fit(X_train, y_train)        \n",
    "visualizer.score(X_test, y_test)       \n",
    "visualizer.show()   "
   ]
  },
  {
   "cell_type": "code",
   "execution_count": 75,
   "metadata": {},
   "outputs": [],
   "source": [
    "from yellowbrick.model_selection import LearningCurve"
   ]
  },
  {
   "cell_type": "code",
   "execution_count": 77,
   "metadata": {},
   "outputs": [
    {
     "name": "stderr",
     "output_type": "stream",
     "text": [
      "/home/rob/.local/lib/python3.7/site-packages/sklearn/model_selection/_split.py:1978: FutureWarning: The default value of cv will change from 3 to 5 in version 0.22. Specify it explicitly to silence this warning.\n",
      "  warnings.warn(CV_WARNING, FutureWarning)\n"
     ]
    },
    {
     "data": {
      "image/png": "[encoded data removed]",
      "text/plain": [
       "<Figure size 432x288 with 1 Axes>"
      ]
     },
     "metadata": {
      "needs_background": "light"
     },
     "output_type": "display_data"
    },
    {
     "data": {
      "text/plain": [
       "<matplotlib.axes._subplots.AxesSubplot at 0x7fe5f8058ed0>"
      ]
     },
     "execution_count": 77,
     "metadata": {},
     "output_type": "execute_result"
    }
   ],
   "source": [
    "visualizer = LearningCurve(model, scoring='f1_weighted', n_jobs=4)\n",
    "\n",
    "visualizer.fit(X_train, y_train)       \n",
    "visualizer.show()          \n"
   ]
  },
  {
   "cell_type": "code",
   "execution_count": null,
   "metadata": {},
   "outputs": [],
   "source": []
  }
 ],
 "metadata": {
  "kernelspec": {
   "display_name": "Python 3",
   "language": "python",
   "name": "python3"
  },
  "language_info": {
   "codemirror_mode": {
    "name": "ipython",
    "version": 3
   },
   "file_extension": ".py",
   "mimetype": "text/x-python",
   "name": "python",
   "nbconvert_exporter": "python",
   "pygments_lexer": "ipython3",
   "version": "3.7.6"
  }
 },
 "nbformat": 4,
 "nbformat_minor": 2
}
